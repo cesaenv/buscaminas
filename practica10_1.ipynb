{
  "nbformat": 4,
  "nbformat_minor": 0,
  "metadata": {
    "accelerator": "GPU",
    "colab": {
      "name": "practica10_1.ipynb",
      "provenance": [],
      "include_colab_link": true
    },
    "jupytext": {
      "split_at_heading": true
    },
    "kernelspec": {
      "display_name": "Python 3",
      "language": "python",
      "name": "python3"
    },
    "language_info": {
      "codemirror_mode": {
        "name": "ipython",
        "version": 3
      },
      "file_extension": ".py",
      "mimetype": "text/x-python",
      "name": "python",
      "nbconvert_exporter": "python",
      "pygments_lexer": "ipython3",
      "version": "3.6.7"
    }
  },
  "cells": [
    {
      "cell_type": "markdown",
      "metadata": {
        "id": "view-in-github",
        "colab_type": "text"
      },
      "source": [
        "<a href=\"https://colab.research.google.com/github/cesaenv/buscaminas/blob/main/practica10_1.ipynb\" target=\"_parent\"><img src=\"https://colab.research.google.com/assets/colab-badge.svg\" alt=\"Open In Colab\"/></a>"
      ]
    },
    {
      "cell_type": "markdown",
      "metadata": {
        "id": "xgIZGKPCLpt1"
      },
      "source": [
        "# Práctica 10.1: Redes recurrentes\n",
        "\n",
        "En este notebook vamos a presentar en detalle cómo trabajar con distintas versiones de redes recurrentes. Para ello vamos a usar la librería fastai, que ya usamos en el entregable 2, y su librería subyacente que es PyTorch. Este notebook está basado en el libro de [fastai](https://github.com/fastai/fastbook).\n",
        "\n",
        "Para profundizar en los conceptos de redes recurrentes vamos a construir un modelo de lenguaje desde cero.\n"
      ]
    },
    {
      "cell_type": "markdown",
      "metadata": {
        "id": "Qq2sNX3FMU4C"
      },
      "source": [
        "## Instalación librería\n",
        "\n",
        "Para utilizar este notebook es necesario instalar la versión más actual de la librería de fastai."
      ]
    },
    {
      "cell_type": "code",
      "metadata": {
        "id": "RFxBd1yXMf0X",
        "outputId": "1e485bab-f97b-497a-8be6-d7a63396bb1b",
        "colab": {
          "base_uri": "https://localhost:8080/"
        }
      },
      "source": [
        "!pip install fastai --upgrade"
      ],
      "execution_count": 1,
      "outputs": [
        {
          "output_type": "stream",
          "name": "stdout",
          "text": [
            "Requirement already satisfied: fastai in /usr/local/lib/python3.10/dist-packages (2.7.15)\n",
            "Requirement already satisfied: pip in /usr/local/lib/python3.10/dist-packages (from fastai) (23.1.2)\n",
            "Requirement already satisfied: packaging in /usr/local/lib/python3.10/dist-packages (from fastai) (24.0)\n",
            "Requirement already satisfied: fastdownload<2,>=0.0.5 in /usr/local/lib/python3.10/dist-packages (from fastai) (0.0.7)\n",
            "Requirement already satisfied: fastcore<1.6,>=1.5.29 in /usr/local/lib/python3.10/dist-packages (from fastai) (1.5.35)\n",
            "Requirement already satisfied: torchvision>=0.11 in /usr/local/lib/python3.10/dist-packages (from fastai) (0.17.1+cu121)\n",
            "Requirement already satisfied: matplotlib in /usr/local/lib/python3.10/dist-packages (from fastai) (3.7.1)\n",
            "Requirement already satisfied: pandas in /usr/local/lib/python3.10/dist-packages (from fastai) (2.0.3)\n",
            "Requirement already satisfied: requests in /usr/local/lib/python3.10/dist-packages (from fastai) (2.31.0)\n",
            "Requirement already satisfied: pyyaml in /usr/local/lib/python3.10/dist-packages (from fastai) (6.0.1)\n",
            "Requirement already satisfied: fastprogress>=0.2.4 in /usr/local/lib/python3.10/dist-packages (from fastai) (1.0.3)\n",
            "Requirement already satisfied: pillow>=9.0.0 in /usr/local/lib/python3.10/dist-packages (from fastai) (9.4.0)\n",
            "Requirement already satisfied: scikit-learn in /usr/local/lib/python3.10/dist-packages (from fastai) (1.2.2)\n",
            "Requirement already satisfied: scipy in /usr/local/lib/python3.10/dist-packages (from fastai) (1.11.4)\n",
            "Requirement already satisfied: spacy<4 in /usr/local/lib/python3.10/dist-packages (from fastai) (3.7.4)\n",
            "Requirement already satisfied: torch<2.4,>=1.10 in /usr/local/lib/python3.10/dist-packages (from fastai) (2.2.1+cu121)\n",
            "Requirement already satisfied: spacy-legacy<3.1.0,>=3.0.11 in /usr/local/lib/python3.10/dist-packages (from spacy<4->fastai) (3.0.12)\n",
            "Requirement already satisfied: spacy-loggers<2.0.0,>=1.0.0 in /usr/local/lib/python3.10/dist-packages (from spacy<4->fastai) (1.0.5)\n",
            "Requirement already satisfied: murmurhash<1.1.0,>=0.28.0 in /usr/local/lib/python3.10/dist-packages (from spacy<4->fastai) (1.0.10)\n",
            "Requirement already satisfied: cymem<2.1.0,>=2.0.2 in /usr/local/lib/python3.10/dist-packages (from spacy<4->fastai) (2.0.8)\n",
            "Requirement already satisfied: preshed<3.1.0,>=3.0.2 in /usr/local/lib/python3.10/dist-packages (from spacy<4->fastai) (3.0.9)\n",
            "Requirement already satisfied: thinc<8.3.0,>=8.2.2 in /usr/local/lib/python3.10/dist-packages (from spacy<4->fastai) (8.2.3)\n",
            "Requirement already satisfied: wasabi<1.2.0,>=0.9.1 in /usr/local/lib/python3.10/dist-packages (from spacy<4->fastai) (1.1.2)\n",
            "Requirement already satisfied: srsly<3.0.0,>=2.4.3 in /usr/local/lib/python3.10/dist-packages (from spacy<4->fastai) (2.4.8)\n",
            "Requirement already satisfied: catalogue<2.1.0,>=2.0.6 in /usr/local/lib/python3.10/dist-packages (from spacy<4->fastai) (2.0.10)\n",
            "Requirement already satisfied: weasel<0.4.0,>=0.1.0 in /usr/local/lib/python3.10/dist-packages (from spacy<4->fastai) (0.3.4)\n",
            "Requirement already satisfied: typer<0.10.0,>=0.3.0 in /usr/local/lib/python3.10/dist-packages (from spacy<4->fastai) (0.9.4)\n",
            "Requirement already satisfied: smart-open<7.0.0,>=5.2.1 in /usr/local/lib/python3.10/dist-packages (from spacy<4->fastai) (6.4.0)\n",
            "Requirement already satisfied: tqdm<5.0.0,>=4.38.0 in /usr/local/lib/python3.10/dist-packages (from spacy<4->fastai) (4.66.4)\n",
            "Requirement already satisfied: pydantic!=1.8,!=1.8.1,<3.0.0,>=1.7.4 in /usr/local/lib/python3.10/dist-packages (from spacy<4->fastai) (2.7.1)\n",
            "Requirement already satisfied: jinja2 in /usr/local/lib/python3.10/dist-packages (from spacy<4->fastai) (3.1.4)\n",
            "Requirement already satisfied: setuptools in /usr/local/lib/python3.10/dist-packages (from spacy<4->fastai) (67.7.2)\n",
            "Requirement already satisfied: langcodes<4.0.0,>=3.2.0 in /usr/local/lib/python3.10/dist-packages (from spacy<4->fastai) (3.4.0)\n",
            "Requirement already satisfied: numpy>=1.19.0 in /usr/local/lib/python3.10/dist-packages (from spacy<4->fastai) (1.25.2)\n",
            "Requirement already satisfied: charset-normalizer<4,>=2 in /usr/local/lib/python3.10/dist-packages (from requests->fastai) (3.3.2)\n",
            "Requirement already satisfied: idna<4,>=2.5 in /usr/local/lib/python3.10/dist-packages (from requests->fastai) (3.7)\n",
            "Requirement already satisfied: urllib3<3,>=1.21.1 in /usr/local/lib/python3.10/dist-packages (from requests->fastai) (2.0.7)\n",
            "Requirement already satisfied: certifi>=2017.4.17 in /usr/local/lib/python3.10/dist-packages (from requests->fastai) (2024.2.2)\n",
            "Requirement already satisfied: filelock in /usr/local/lib/python3.10/dist-packages (from torch<2.4,>=1.10->fastai) (3.14.0)\n",
            "Requirement already satisfied: typing-extensions>=4.8.0 in /usr/local/lib/python3.10/dist-packages (from torch<2.4,>=1.10->fastai) (4.11.0)\n",
            "Requirement already satisfied: sympy in /usr/local/lib/python3.10/dist-packages (from torch<2.4,>=1.10->fastai) (1.12)\n",
            "Requirement already satisfied: networkx in /usr/local/lib/python3.10/dist-packages (from torch<2.4,>=1.10->fastai) (3.3)\n",
            "Requirement already satisfied: fsspec in /usr/local/lib/python3.10/dist-packages (from torch<2.4,>=1.10->fastai) (2023.6.0)\n",
            "Collecting nvidia-cuda-nvrtc-cu12==12.1.105 (from torch<2.4,>=1.10->fastai)\n",
            "  Using cached nvidia_cuda_nvrtc_cu12-12.1.105-py3-none-manylinux1_x86_64.whl (23.7 MB)\n",
            "Collecting nvidia-cuda-runtime-cu12==12.1.105 (from torch<2.4,>=1.10->fastai)\n",
            "  Using cached nvidia_cuda_runtime_cu12-12.1.105-py3-none-manylinux1_x86_64.whl (823 kB)\n",
            "Collecting nvidia-cuda-cupti-cu12==12.1.105 (from torch<2.4,>=1.10->fastai)\n",
            "  Using cached nvidia_cuda_cupti_cu12-12.1.105-py3-none-manylinux1_x86_64.whl (14.1 MB)\n",
            "Collecting nvidia-cudnn-cu12==8.9.2.26 (from torch<2.4,>=1.10->fastai)\n",
            "  Using cached nvidia_cudnn_cu12-8.9.2.26-py3-none-manylinux1_x86_64.whl (731.7 MB)\n",
            "Collecting nvidia-cublas-cu12==12.1.3.1 (from torch<2.4,>=1.10->fastai)\n",
            "  Using cached nvidia_cublas_cu12-12.1.3.1-py3-none-manylinux1_x86_64.whl (410.6 MB)\n",
            "Collecting nvidia-cufft-cu12==11.0.2.54 (from torch<2.4,>=1.10->fastai)\n",
            "  Using cached nvidia_cufft_cu12-11.0.2.54-py3-none-manylinux1_x86_64.whl (121.6 MB)\n",
            "Collecting nvidia-curand-cu12==10.3.2.106 (from torch<2.4,>=1.10->fastai)\n",
            "  Using cached nvidia_curand_cu12-10.3.2.106-py3-none-manylinux1_x86_64.whl (56.5 MB)\n",
            "Collecting nvidia-cusolver-cu12==11.4.5.107 (from torch<2.4,>=1.10->fastai)\n",
            "  Using cached nvidia_cusolver_cu12-11.4.5.107-py3-none-manylinux1_x86_64.whl (124.2 MB)\n",
            "Collecting nvidia-cusparse-cu12==12.1.0.106 (from torch<2.4,>=1.10->fastai)\n",
            "  Using cached nvidia_cusparse_cu12-12.1.0.106-py3-none-manylinux1_x86_64.whl (196.0 MB)\n",
            "Collecting nvidia-nccl-cu12==2.19.3 (from torch<2.4,>=1.10->fastai)\n",
            "  Using cached nvidia_nccl_cu12-2.19.3-py3-none-manylinux1_x86_64.whl (166.0 MB)\n",
            "Collecting nvidia-nvtx-cu12==12.1.105 (from torch<2.4,>=1.10->fastai)\n",
            "  Using cached nvidia_nvtx_cu12-12.1.105-py3-none-manylinux1_x86_64.whl (99 kB)\n",
            "Requirement already satisfied: triton==2.2.0 in /usr/local/lib/python3.10/dist-packages (from torch<2.4,>=1.10->fastai) (2.2.0)\n",
            "Collecting nvidia-nvjitlink-cu12 (from nvidia-cusolver-cu12==11.4.5.107->torch<2.4,>=1.10->fastai)\n",
            "  Using cached nvidia_nvjitlink_cu12-12.4.127-py3-none-manylinux2014_x86_64.whl (21.1 MB)\n",
            "Requirement already satisfied: contourpy>=1.0.1 in /usr/local/lib/python3.10/dist-packages (from matplotlib->fastai) (1.2.1)\n",
            "Requirement already satisfied: cycler>=0.10 in /usr/local/lib/python3.10/dist-packages (from matplotlib->fastai) (0.12.1)\n",
            "Requirement already satisfied: fonttools>=4.22.0 in /usr/local/lib/python3.10/dist-packages (from matplotlib->fastai) (4.51.0)\n",
            "Requirement already satisfied: kiwisolver>=1.0.1 in /usr/local/lib/python3.10/dist-packages (from matplotlib->fastai) (1.4.5)\n",
            "Requirement already satisfied: pyparsing>=2.3.1 in /usr/local/lib/python3.10/dist-packages (from matplotlib->fastai) (3.1.2)\n",
            "Requirement already satisfied: python-dateutil>=2.7 in /usr/local/lib/python3.10/dist-packages (from matplotlib->fastai) (2.8.2)\n",
            "Requirement already satisfied: pytz>=2020.1 in /usr/local/lib/python3.10/dist-packages (from pandas->fastai) (2023.4)\n",
            "Requirement already satisfied: tzdata>=2022.1 in /usr/local/lib/python3.10/dist-packages (from pandas->fastai) (2024.1)\n",
            "Requirement already satisfied: joblib>=1.1.1 in /usr/local/lib/python3.10/dist-packages (from scikit-learn->fastai) (1.4.2)\n",
            "Requirement already satisfied: threadpoolctl>=2.0.0 in /usr/local/lib/python3.10/dist-packages (from scikit-learn->fastai) (3.5.0)\n",
            "Requirement already satisfied: language-data>=1.2 in /usr/local/lib/python3.10/dist-packages (from langcodes<4.0.0,>=3.2.0->spacy<4->fastai) (1.2.0)\n",
            "Requirement already satisfied: annotated-types>=0.4.0 in /usr/local/lib/python3.10/dist-packages (from pydantic!=1.8,!=1.8.1,<3.0.0,>=1.7.4->spacy<4->fastai) (0.6.0)\n",
            "Requirement already satisfied: pydantic-core==2.18.2 in /usr/local/lib/python3.10/dist-packages (from pydantic!=1.8,!=1.8.1,<3.0.0,>=1.7.4->spacy<4->fastai) (2.18.2)\n",
            "Requirement already satisfied: six>=1.5 in /usr/local/lib/python3.10/dist-packages (from python-dateutil>=2.7->matplotlib->fastai) (1.16.0)\n",
            "Requirement already satisfied: blis<0.8.0,>=0.7.8 in /usr/local/lib/python3.10/dist-packages (from thinc<8.3.0,>=8.2.2->spacy<4->fastai) (0.7.11)\n",
            "Requirement already satisfied: confection<1.0.0,>=0.0.1 in /usr/local/lib/python3.10/dist-packages (from thinc<8.3.0,>=8.2.2->spacy<4->fastai) (0.1.4)\n",
            "Requirement already satisfied: click<9.0.0,>=7.1.1 in /usr/local/lib/python3.10/dist-packages (from typer<0.10.0,>=0.3.0->spacy<4->fastai) (8.1.7)\n",
            "Requirement already satisfied: cloudpathlib<0.17.0,>=0.7.0 in /usr/local/lib/python3.10/dist-packages (from weasel<0.4.0,>=0.1.0->spacy<4->fastai) (0.16.0)\n",
            "Requirement already satisfied: MarkupSafe>=2.0 in /usr/local/lib/python3.10/dist-packages (from jinja2->spacy<4->fastai) (2.1.5)\n",
            "Requirement already satisfied: mpmath>=0.19 in /usr/local/lib/python3.10/dist-packages (from sympy->torch<2.4,>=1.10->fastai) (1.3.0)\n",
            "Requirement already satisfied: marisa-trie>=0.7.7 in /usr/local/lib/python3.10/dist-packages (from language-data>=1.2->langcodes<4.0.0,>=3.2.0->spacy<4->fastai) (1.1.1)\n",
            "Installing collected packages: nvidia-nvtx-cu12, nvidia-nvjitlink-cu12, nvidia-nccl-cu12, nvidia-curand-cu12, nvidia-cufft-cu12, nvidia-cuda-runtime-cu12, nvidia-cuda-nvrtc-cu12, nvidia-cuda-cupti-cu12, nvidia-cublas-cu12, nvidia-cusparse-cu12, nvidia-cudnn-cu12, nvidia-cusolver-cu12\n",
            "Successfully installed nvidia-cublas-cu12-12.1.3.1 nvidia-cuda-cupti-cu12-12.1.105 nvidia-cuda-nvrtc-cu12-12.1.105 nvidia-cuda-runtime-cu12-12.1.105 nvidia-cudnn-cu12-8.9.2.26 nvidia-cufft-cu12-11.0.2.54 nvidia-curand-cu12-10.3.2.106 nvidia-cusolver-cu12-11.4.5.107 nvidia-cusparse-cu12-12.1.0.106 nvidia-nccl-cu12-2.19.3 nvidia-nvjitlink-cu12-12.4.127 nvidia-nvtx-cu12-12.1.105\n"
          ]
        }
      ]
    },
    {
      "cell_type": "markdown",
      "metadata": {
        "id": "0vkVIIsQLkXu"
      },
      "source": [
        "## Dataset"
      ]
    },
    {
      "cell_type": "markdown",
      "metadata": {
        "id": "xZnyse_yLkXw"
      },
      "source": [
        "Para este notebook vamos a utilizar un dataset llamado *human numbers* que consta de los 10000 primeros números escritos en inglés. Para descargar dicho dataset ejecutamos la siguiente instrucción y creamos una variable path que apunta a donde se ha descargado dicho dataset."
      ]
    },
    {
      "cell_type": "code",
      "metadata": {
        "id": "0Na6OmG4LkX0",
        "outputId": "8cde77d5-de53-4037-b6ba-8172d7299f8b",
        "colab": {
          "base_uri": "https://localhost:8080/",
          "height": 37
        }
      },
      "source": [
        "from fastai.text.all import *\n",
        "path = untar_data(URLs.HUMAN_NUMBERS)"
      ],
      "execution_count": 2,
      "outputs": [
        {
          "output_type": "display_data",
          "data": {
            "text/plain": [
              "<IPython.core.display.HTML object>"
            ],
            "text/html": [
              "\n",
              "<style>\n",
              "    /* Turns off some styling */\n",
              "    progress {\n",
              "        /* gets rid of default border in Firefox and Opera. */\n",
              "        border: none;\n",
              "        /* Needs to be in here for Safari polyfill so background images work as expected. */\n",
              "        background-size: auto;\n",
              "    }\n",
              "    progress:not([value]), progress:not([value])::-webkit-progress-bar {\n",
              "        background: repeating-linear-gradient(45deg, #7e7e7e, #7e7e7e 10px, #5c5c5c 10px, #5c5c5c 20px);\n",
              "    }\n",
              "    .progress-bar-interrupted, .progress-bar-interrupted::-webkit-progress-bar {\n",
              "        background: #F44336;\n",
              "    }\n",
              "</style>\n"
            ]
          },
          "metadata": {}
        },
        {
          "output_type": "display_data",
          "data": {
            "text/plain": [
              "<IPython.core.display.HTML object>"
            ],
            "text/html": [
              "\n",
              "    <div>\n",
              "      <progress value='32768' class='' max='30252' style='width:300px; height:20px; vertical-align: middle;'></progress>\n",
              "      108.32% [32768/30252 00:00&lt;00:00]\n",
              "    </div>\n",
              "    "
            ]
          },
          "metadata": {}
        }
      ]
    },
    {
      "cell_type": "markdown",
      "metadata": {
        "id": "9QHSKt6CNcxB"
      },
      "source": [
        "Como podemos ver a través de la siguiente instrucción, nuestro dataset consta de dos ficheros de texto plano, uno para entrenar y otro para validar (o testear)."
      ]
    },
    {
      "cell_type": "code",
      "metadata": {
        "id": "gEvMzkcfLkYB",
        "outputId": "91093f58-3266-4224-d701-7b099c7272c7",
        "colab": {
          "base_uri": "https://localhost:8080/"
        }
      },
      "source": [
        "path.ls()"
      ],
      "execution_count": 3,
      "outputs": [
        {
          "output_type": "execute_result",
          "data": {
            "text/plain": [
              "(#2) [Path('/root/.fastai/data/human_numbers/train.txt'),Path('/root/.fastai/data/human_numbers/valid.txt')]"
            ]
          },
          "metadata": {},
          "execution_count": 3
        }
      ]
    },
    {
      "cell_type": "markdown",
      "metadata": {
        "id": "z9YwuQE1LkYI"
      },
      "source": [
        "Vamos a combinar ambos dataset y almacenamos el resultado en una variable lines. En el código siguiente aparece un objeto `L()` que es un tipo de lista utilizado en FastAI."
      ]
    },
    {
      "cell_type": "code",
      "metadata": {
        "id": "_2aAKcQSLkYJ",
        "outputId": "ab91fd9e-e4c3-4fb4-d70c-33a355015596",
        "colab": {
          "base_uri": "https://localhost:8080/"
        }
      },
      "source": [
        "lines = L()\n",
        "with open(path/'train.txt') as f: lines += L(*f.readlines())\n",
        "with open(path/'valid.txt') as f: lines += L(*f.readlines())\n",
        "lines"
      ],
      "execution_count": 4,
      "outputs": [
        {
          "output_type": "execute_result",
          "data": {
            "text/plain": [
              "(#9998) ['one \\n','two \\n','three \\n','four \\n','five \\n','six \\n','seven \\n','eight \\n','nine \\n','ten \\n'...]"
            ]
          },
          "metadata": {},
          "execution_count": 4
        }
      ]
    },
    {
      "cell_type": "markdown",
      "metadata": {
        "id": "erdAQ5mrLkYO"
      },
      "source": [
        "A continuación vamos a formar una única cadena con la lista anterior y a separar cada número mediante un '.'."
      ]
    },
    {
      "cell_type": "code",
      "metadata": {
        "id": "BGLu9gjDLkYP",
        "outputId": "562d2198-0076-44bc-a039-d16aa3dc6f61",
        "colab": {
          "base_uri": "https://localhost:8080/",
          "height": 55
        }
      },
      "source": [
        "text = ' . '.join([l.strip() for l in lines])\n",
        "text[:100]"
      ],
      "execution_count": 5,
      "outputs": [
        {
          "output_type": "execute_result",
          "data": {
            "text/plain": [
              "'one . two . three . four . five . six . seven . eight . nine . ten . eleven . twelve . thirteen . fo'"
            ],
            "application/vnd.google.colaboratory.intrinsic+json": {
              "type": "string"
            }
          },
          "metadata": {},
          "execution_count": 5
        }
      ]
    },
    {
      "cell_type": "markdown",
      "metadata": {
        "id": "5_xpDO__LkYU"
      },
      "source": [
        "Seguidamente aplicamos un proceso de tokenización separando por espacios."
      ]
    },
    {
      "cell_type": "code",
      "metadata": {
        "id": "0R6eOa7eLkYW",
        "outputId": "bce4740c-f48e-42e6-a37b-18bcc9dfad6d",
        "colab": {
          "base_uri": "https://localhost:8080/"
        }
      },
      "source": [
        "tokens = text.split(' ')\n",
        "tokens[:10]"
      ],
      "execution_count": 6,
      "outputs": [
        {
          "output_type": "execute_result",
          "data": {
            "text/plain": [
              "['one', '.', 'two', '.', 'three', '.', 'four', '.', 'five', '.']"
            ]
          },
          "metadata": {},
          "execution_count": 6
        }
      ]
    },
    {
      "cell_type": "markdown",
      "metadata": {
        "id": "sKAEvMAOLkYb"
      },
      "source": [
        "Como comentamos en teoría, inicialmente la representación de cada palabra suele darse mediante el método one-hot encoding, y se utiliza la red para aprender un embedding de los datos. Sin embargo, la representación one-hot ocupa mucha memoria por lo que en FastAI en lugar de usar dicha representación, se **numericalizan** las palabras. Este proceso consite en representar cada palabra mediante el índice (la posición) que ocupa en el vocabulario.\n",
        "\n",
        "Por lo tanto lo primero que tenemos que hacer es construir nuestro vocabulario con las palabras únicas de nuestro dataset."
      ]
    },
    {
      "cell_type": "code",
      "metadata": {
        "id": "V2c-EYwiLkYc",
        "outputId": "1eb8caac-d4d5-4fe9-9eab-b5e796891461",
        "colab": {
          "base_uri": "https://localhost:8080/"
        }
      },
      "source": [
        "vocab = L(*tokens).unique()\n",
        "vocab"
      ],
      "execution_count": 7,
      "outputs": [
        {
          "output_type": "execute_result",
          "data": {
            "text/plain": [
              "(#30) ['one','.','two','three','four','five','six','seven','eight','nine'...]"
            ]
          },
          "metadata": {},
          "execution_count": 7
        }
      ]
    },
    {
      "cell_type": "markdown",
      "metadata": {
        "id": "bymHidMaLkYh"
      },
      "source": [
        "Ahora podemos convertir los tokens en números mirando su índice en el vocabulario."
      ]
    },
    {
      "cell_type": "code",
      "metadata": {
        "id": "520vBLMSLkYi",
        "outputId": "592f5d62-fccd-438d-dbd8-0e5ee50bb1ab",
        "colab": {
          "base_uri": "https://localhost:8080/"
        }
      },
      "source": [
        "word2idx = {w:i for i,w in enumerate(vocab)}\n",
        "nums = L(word2idx[i] for i in tokens)\n",
        "nums"
      ],
      "execution_count": 8,
      "outputs": [
        {
          "output_type": "execute_result",
          "data": {
            "text/plain": [
              "(#63095) [0,1,2,1,3,1,4,1,5,1...]"
            ]
          },
          "metadata": {},
          "execution_count": 8
        }
      ]
    },
    {
      "cell_type": "markdown",
      "metadata": {
        "id": "G2D6PyI3LkYn"
      },
      "source": [
        "Ahora que ya tenemos codificados nuestros datos ya podemos empezar a construir modelos."
      ]
    },
    {
      "cell_type": "markdown",
      "metadata": {
        "id": "lg1aPnAfLkYo"
      },
      "source": [
        "## Un primer modelo"
      ]
    },
    {
      "cell_type": "markdown",
      "metadata": {
        "id": "fqeJ-u2RLkYp"
      },
      "source": [
        "Nuestro objetivo para este dataset va a ser predecir una palabra basándonos en las tres anteriores. Por lo tanto podemos ver un la lista de cada secuencia de tres palabras consecutivas como nuestra \"X\", y la siguiente palabra de la secuencia como nuestra \"y\".\n",
        "\n",
        "Esto lo podemos lograr en python del siguiente modo."
      ]
    },
    {
      "cell_type": "code",
      "metadata": {
        "id": "gRIIiIFCLkYq",
        "outputId": "863159a2-21b6-452f-b460-16b30ecc7a96",
        "colab": {
          "base_uri": "https://localhost:8080/"
        }
      },
      "source": [
        "L((tokens[i:i+3], tokens[i+3]) for i in range(0,len(tokens)-4,3))"
      ],
      "execution_count": 9,
      "outputs": [
        {
          "output_type": "execute_result",
          "data": {
            "text/plain": [
              "(#21031) [(['one', '.', 'two'], '.'),(['.', 'three', '.'], 'four'),(['four', '.', 'five'], '.'),(['.', 'six', '.'], 'seven'),(['seven', '.', 'eight'], '.'),(['.', 'nine', '.'], 'ten'),(['ten', '.', 'eleven'], '.'),(['.', 'twelve', '.'], 'thirteen'),(['thirteen', '.', 'fourteen'], '.'),(['.', 'fifteen', '.'], 'sixteen')...]"
            ]
          },
          "metadata": {},
          "execution_count": 9
        }
      ]
    },
    {
      "cell_type": "markdown",
      "metadata": {
        "id": "-TCE_I9oLkY1"
      },
      "source": [
        "Ahora creamos una serie de *tensores* (puede verse como otro tipo de lista) con los valores numéricos, que es lo que el modelo espera como entrada."
      ]
    },
    {
      "cell_type": "code",
      "metadata": {
        "id": "24mEsSQQLkY2",
        "outputId": "c4433c80-743a-4bd8-b2db-0f72720d7151",
        "colab": {
          "base_uri": "https://localhost:8080/"
        }
      },
      "source": [
        "seqs = L((tensor(nums[i:i+3]), nums[i+3]) for i in range(0,len(nums)-4,3))\n",
        "seqs"
      ],
      "execution_count": 10,
      "outputs": [
        {
          "output_type": "execute_result",
          "data": {
            "text/plain": [
              "(#21031) [(tensor([0, 1, 2]), 1),(tensor([1, 3, 1]), 4),(tensor([4, 1, 5]), 1),(tensor([1, 6, 1]), 7),(tensor([7, 1, 8]), 1),(tensor([1, 9, 1]), 10),(tensor([10,  1, 11]), 1),(tensor([ 1, 12,  1]), 13),(tensor([13,  1, 14]), 1),(tensor([ 1, 15,  1]), 16)...]"
            ]
          },
          "metadata": {},
          "execution_count": 10
        }
      ]
    },
    {
      "cell_type": "markdown",
      "metadata": {
        "id": "E_LzaG_mLkY6"
      },
      "source": [
        "Ahora podemos preparar una serie de *batches* que serán usados para entrenar la red. Para ello es necesario usar la clase `DataLoader` y separar en un conjunto de entrenamiento y de test."
      ]
    },
    {
      "cell_type": "code",
      "metadata": {
        "id": "kg66KcvXLkY8"
      },
      "source": [
        "# Tamaño del batch\n",
        "bs = 64\n",
        "# Partición qu vamos a hacer\n",
        "cut = int(len(seqs) * 0.8)\n",
        "dls = DataLoaders.from_dsets(seqs[:cut], seqs[cut:], bs=64, shuffle=False)"
      ],
      "execution_count": 11,
      "outputs": []
    },
    {
      "cell_type": "markdown",
      "metadata": {
        "id": "uSAZMRdZLkZA"
      },
      "source": [
        "Ahora vamos a crear una red neuronal que tome tres palabras como entradas y devuelva una predicción para cada palabra del vocabulario indicando la probabilidad de que esa palabra sea la siguiente en la secuencia. En esta red neuronal vamos a tener tres capas completamente conectadas, pero con dos pequeños cambios.\n",
        "\n",
        "El primer cambio es que la primera capa solo usará el embedding de la primera palabra como entrada, la segunda capa usará el embedding de la segunda palabra mas la salida de la primera capa como entrada, y la tercera capa usará el embedding de la tercera palabra más la salida de la segunda capa como entrada. El efecto clave de este proceso es que cada palabra se interpreta en el contexto de las palabras precedentes.\n",
        "\n",
        "El segundo cambio es que cada una de las capas va usar la misma matriz de pesos. Esto se hace con el objetivo de que el impacto que tiene una palabra en los pesos a partir de las palabras previas no debería cambiar dependiendo de la posición de la palabra. Dicho de otro modo, los los valores de entrada de las capas van cambiando a medida que los datos van pasando a través de las capas, pero los pesos no deben cambiar. De este modo una capa no aprende una posición en la secuencia, sino que tiene que aprender todas ellas.\n",
        "\n",
        "Dado que los pesos de la capa no cambian, se puede ver las capas secuenciales como la misma capa repetida. Esto en la práctica se puede llevar a cabo con PyTorch creando una capa y usándola múltiples veces."
      ]
    },
    {
      "cell_type": "markdown",
      "metadata": {
        "id": "JRa8CxcpLkZB"
      },
      "source": [
        "### Nuestro modelo de lenguaje en Pytorch"
      ]
    },
    {
      "cell_type": "markdown",
      "metadata": {
        "id": "aOGbeDzFLkZC"
      },
      "source": [
        "Vamos a crear el modelo de lenguaje descrito anteriormente en PyTorch."
      ]
    },
    {
      "cell_type": "code",
      "metadata": {
        "id": "38UZcScBLkZC"
      },
      "source": [
        "class LMModel1(Module):\n",
        "    def __init__(self, vocab_sz, n_hidden):\n",
        "        self.i_h = nn.Embedding(vocab_sz, n_hidden)\n",
        "        self.h_h = nn.Linear(n_hidden, n_hidden)\n",
        "        self.h_o = nn.Linear(n_hidden,vocab_sz)\n",
        "\n",
        "    def forward(self, x):\n",
        "        h = F.relu(self.h_h(self.i_h(x[:,0])))\n",
        "        h = h + self.i_h(x[:,1])\n",
        "        h = F.relu(self.h_h(h))\n",
        "        h = h + self.i_h(x[:,2])\n",
        "        h = F.relu(self.h_h(h))\n",
        "        return self.h_o(h)"
      ],
      "execution_count": 12,
      "outputs": []
    },
    {
      "cell_type": "markdown",
      "metadata": {
        "id": "_9twGXVaLkZG"
      },
      "source": [
        "Cuando queremos crear una red neuronal en PyTorch debemos crear una clase que herede de la clase `Module`. Además debemos proporcionar como se va a calcular la salida a partir de la entrada (es decir la arquitectura de la red) dentro del método `forward`. Además, como vemos en la clase anterior, es normal inicializar una serie de parámetros, en este caso las capas que se van a utilizar, dentro del constructor (método `__init__`) de la clase.\n",
        "\n",
        "En este caso tenemos tres capas:\n",
        "\n",
        "- La capa de embedding (`i_h` por de *input* a *hidden*).\n",
        "- La capa lineal que crea la salida para la siguiente palabra(`h_h` por de *hidden* a *hidden*).\n",
        "- Una capa final para predecir la siguiente palabra (`h_o` por de *hidden* a *output*)\n",
        "\n",
        "Esto puede verse mejor con la siguiente representación gráfica."
      ]
    },
    {
      "cell_type": "markdown",
      "metadata": {
        "id": "LJmjGq3qLkZJ"
      },
      "source": [
        "<img alt=\"Pictorial representation of simple neural network\" width=\"400\" src=\"https://github.com/IA1920/images/blob/master/images/att_00020.png?raw=1\" caption=\"Pictorial representation of simple neural network\" id=\"img_simple_nn\">"
      ]
    },
    {
      "cell_type": "markdown",
      "metadata": {
        "id": "CDs3ASWlLkZK"
      },
      "source": [
        "Cada forma representa una capa: el rectángulo para la entrada, el círculo para la capa oculta, y el triángulo para la capa de salida. Usaremos la misma representación para el resto de diagramas del notebook."
      ]
    },
    {
      "cell_type": "markdown",
      "metadata": {
        "id": "oFlItrioLkZL"
      },
      "source": [
        "<img alt=\"Shapes used in our pictorial representations\" width=\"200\" src=\"https://github.com/IA1920/images/blob/master/images/att_00021.png?raw=1\" id=\"img_shapes\" caption=\"Shapes used in our pictorial representations\">"
      ]
    },
    {
      "cell_type": "markdown",
      "metadata": {
        "id": "Or17DjVcLkZM"
      },
      "source": [
        "Una flecha en el diagrama representa el cálculo realizado, es decir el producto de los pesos por la entrada de la capa seguido de la aplicación de una función de activación. Usando esta notación podemos representar nuestro modelo del siguiente modo."
      ]
    },
    {
      "cell_type": "markdown",
      "metadata": {
        "id": "tkBI2czwLkZN"
      },
      "source": [
        "<img alt=\"Representation of our basic language model\" width=\"500\" caption=\"Representation of our basic language model\" id=\"lm_rep\" src=\"https://github.com/IA1920/images/blob/master/images/att_00022.png?raw=1\">"
      ]
    },
    {
      "cell_type": "markdown",
      "metadata": {
        "id": "7gIz560ELkZO"
      },
      "source": [
        "Notar que hemos coloreado las flechas de maenra que todas las flechas del mismo color usan la misma matriz de pesos. Por ejemplo, todas las capas de entrada usan la misma matriz de embedding.\n",
        "\n",
        "Vamos a entrenar dicho modelo. Para ello debemos constrir un objeto `Learner` que va a recibir 4 parámetros.\n",
        "- Un dataloader (`dls`) que indica cómo acceder al dataset.\n",
        "- La arquitectura de nuestro modelo (`LMModel1`).\n",
        "- La función de pérdida (`loss_func=F.cross_entropy` que es la función de pérdida utilizada normalmente para clasificación cuando hay múltiples clases).\n",
        "- La métrica con la que evaluaremos el modelo (`metrics=accuracy`)."
      ]
    },
    {
      "cell_type": "code",
      "metadata": {
        "id": "-y_gwiutMqvA"
      },
      "source": [
        "learn = Learner(dls, LMModel1(len(vocab), 64), loss_func=F.cross_entropy,\n",
        "                metrics=accuracy)"
      ],
      "execution_count": 13,
      "outputs": []
    },
    {
      "cell_type": "markdown",
      "metadata": {
        "id": "74rQLtTUMqvB"
      },
      "source": [
        "Ahora ya podemos entrenar nuestro modelo con el método `fit_one_cycle` que vimos en el Entregable 2."
      ]
    },
    {
      "cell_type": "code",
      "metadata": {
        "id": "d42ilrwbLkZP",
        "outputId": "44a0cf3b-af13-4233-a725-1656be5e5887",
        "colab": {
          "base_uri": "https://localhost:8080/",
          "height": 175
        }
      },
      "source": [
        "learn.fit_one_cycle(4, 1e-3)"
      ],
      "execution_count": 14,
      "outputs": [
        {
          "output_type": "display_data",
          "data": {
            "text/plain": [
              "<IPython.core.display.HTML object>"
            ],
            "text/html": [
              "\n",
              "<style>\n",
              "    /* Turns off some styling */\n",
              "    progress {\n",
              "        /* gets rid of default border in Firefox and Opera. */\n",
              "        border: none;\n",
              "        /* Needs to be in here for Safari polyfill so background images work as expected. */\n",
              "        background-size: auto;\n",
              "    }\n",
              "    progress:not([value]), progress:not([value])::-webkit-progress-bar {\n",
              "        background: repeating-linear-gradient(45deg, #7e7e7e, #7e7e7e 10px, #5c5c5c 10px, #5c5c5c 20px);\n",
              "    }\n",
              "    .progress-bar-interrupted, .progress-bar-interrupted::-webkit-progress-bar {\n",
              "        background: #F44336;\n",
              "    }\n",
              "</style>\n"
            ]
          },
          "metadata": {}
        },
        {
          "output_type": "display_data",
          "data": {
            "text/plain": [
              "<IPython.core.display.HTML object>"
            ],
            "text/html": [
              "<table border=\"1\" class=\"dataframe\">\n",
              "  <thead>\n",
              "    <tr style=\"text-align: left;\">\n",
              "      <th>epoch</th>\n",
              "      <th>train_loss</th>\n",
              "      <th>valid_loss</th>\n",
              "      <th>accuracy</th>\n",
              "      <th>time</th>\n",
              "    </tr>\n",
              "  </thead>\n",
              "  <tbody>\n",
              "    <tr>\n",
              "      <td>0</td>\n",
              "      <td>1.829828</td>\n",
              "      <td>1.939693</td>\n",
              "      <td>0.473972</td>\n",
              "      <td>00:05</td>\n",
              "    </tr>\n",
              "    <tr>\n",
              "      <td>1</td>\n",
              "      <td>1.398403</td>\n",
              "      <td>1.711551</td>\n",
              "      <td>0.474447</td>\n",
              "      <td>00:05</td>\n",
              "    </tr>\n",
              "    <tr>\n",
              "      <td>2</td>\n",
              "      <td>1.391641</td>\n",
              "      <td>1.642096</td>\n",
              "      <td>0.493701</td>\n",
              "      <td>00:05</td>\n",
              "    </tr>\n",
              "    <tr>\n",
              "      <td>3</td>\n",
              "      <td>1.368288</td>\n",
              "      <td>1.657346</td>\n",
              "      <td>0.447112</td>\n",
              "      <td>00:03</td>\n",
              "    </tr>\n",
              "  </tbody>\n",
              "</table>"
            ]
          },
          "metadata": {}
        }
      ]
    },
    {
      "cell_type": "markdown",
      "metadata": {
        "id": "Yx6_fgurLkZS"
      },
      "source": [
        "Para ver qué tal funciona el modelo podemos compararlo con predecir siempre la palabra más común. Para ello vamos a encontrar con el siguiente código cuál es la palabra más común en el conjunto de test."
      ]
    },
    {
      "cell_type": "code",
      "metadata": {
        "id": "tsYLX82pLkZT",
        "outputId": "b8cdc054-b67a-4fcd-f856-2bef0b9e955b",
        "colab": {
          "base_uri": "https://localhost:8080/"
        }
      },
      "source": [
        "n,counts = 0,torch.zeros(len(vocab))\n",
        "for x,y in dls.valid:\n",
        "    n += y.shape[0]\n",
        "    for i in range_of(vocab): counts[i] += (y==i).long().sum()\n",
        "idx = torch.argmax(counts)\n",
        "idx, vocab[idx.item()], counts[idx].item()/n"
      ],
      "execution_count": 15,
      "outputs": [
        {
          "output_type": "execute_result",
          "data": {
            "text/plain": [
              "(tensor(29), 'thousand', 0.15165200855716662)"
            ]
          },
          "metadata": {},
          "execution_count": 15
        }
      ]
    },
    {
      "cell_type": "markdown",
      "metadata": {
        "id": "XT0voN-3LkZZ"
      },
      "source": [
        "La palabra más común es \"thousand\", y usando esta palabra como predicción tendríamos una tasa de acierto del 15%, así que nuestro modelo que obtiene aproximadamente una tasa de acierto del 50% es considerablemente mejor."
      ]
    },
    {
      "cell_type": "markdown",
      "metadata": {
        "id": "0uYKrtCjLkZa"
      },
      "source": [
        "###  Nuestra primera red recurrente"
      ]
    },
    {
      "cell_type": "markdown",
      "metadata": {
        "id": "CnX-7wUHLkZb"
      },
      "source": [
        "Si nos fijamos en el código de nuestra red podemos notar que hay código que se repite, y que lo podríamos reemplazar usando un bucle. Esto tiene la ventaja de que podremos aplicar nuestra red a secuencias de tokens de distintas longitudes, evitando así estar restringidos a trabajar con secuencias de longitud 3."
      ]
    },
    {
      "cell_type": "code",
      "metadata": {
        "id": "QI3bNEdtLkZb"
      },
      "source": [
        "class LMModel2(Module):\n",
        "    def __init__(self, vocab_sz, n_hidden):\n",
        "        self.i_h = nn.Embedding(vocab_sz, n_hidden)\n",
        "        self.h_h = nn.Linear(n_hidden, n_hidden)\n",
        "        self.h_o = nn.Linear(n_hidden,vocab_sz)\n",
        "\n",
        "    def forward(self, x):\n",
        "        h = 0\n",
        "        for i in range(3):\n",
        "            h = h + self.i_h(x[:,i])\n",
        "            h = F.relu(self.h_h(h))\n",
        "        return self.h_o(h)"
      ],
      "execution_count": 16,
      "outputs": []
    },
    {
      "cell_type": "markdown",
      "metadata": {
        "id": "XMbPdo_bLkZg"
      },
      "source": [
        "Vamos a comprobar que se obtiene los mismos resultados (o muy similares)."
      ]
    },
    {
      "cell_type": "code",
      "metadata": {
        "id": "ugy6tQE4LkZh",
        "outputId": "b7ddf187-9b47-47a2-83f8-2e7a59025c16",
        "colab": {
          "base_uri": "https://localhost:8080/",
          "height": 175
        }
      },
      "source": [
        "learn = Learner(dls, LMModel2(len(vocab), 64), loss_func=F.cross_entropy,\n",
        "                metrics=accuracy)\n",
        "learn.fit_one_cycle(4, 1e-3)"
      ],
      "execution_count": 17,
      "outputs": [
        {
          "output_type": "display_data",
          "data": {
            "text/plain": [
              "<IPython.core.display.HTML object>"
            ],
            "text/html": [
              "\n",
              "<style>\n",
              "    /* Turns off some styling */\n",
              "    progress {\n",
              "        /* gets rid of default border in Firefox and Opera. */\n",
              "        border: none;\n",
              "        /* Needs to be in here for Safari polyfill so background images work as expected. */\n",
              "        background-size: auto;\n",
              "    }\n",
              "    progress:not([value]), progress:not([value])::-webkit-progress-bar {\n",
              "        background: repeating-linear-gradient(45deg, #7e7e7e, #7e7e7e 10px, #5c5c5c 10px, #5c5c5c 20px);\n",
              "    }\n",
              "    .progress-bar-interrupted, .progress-bar-interrupted::-webkit-progress-bar {\n",
              "        background: #F44336;\n",
              "    }\n",
              "</style>\n"
            ]
          },
          "metadata": {}
        },
        {
          "output_type": "display_data",
          "data": {
            "text/plain": [
              "<IPython.core.display.HTML object>"
            ],
            "text/html": [
              "<table border=\"1\" class=\"dataframe\">\n",
              "  <thead>\n",
              "    <tr style=\"text-align: left;\">\n",
              "      <th>epoch</th>\n",
              "      <th>train_loss</th>\n",
              "      <th>valid_loss</th>\n",
              "      <th>accuracy</th>\n",
              "      <th>time</th>\n",
              "    </tr>\n",
              "  </thead>\n",
              "  <tbody>\n",
              "    <tr>\n",
              "      <td>0</td>\n",
              "      <td>1.863281</td>\n",
              "      <td>1.916089</td>\n",
              "      <td>0.466841</td>\n",
              "      <td>00:02</td>\n",
              "    </tr>\n",
              "    <tr>\n",
              "      <td>1</td>\n",
              "      <td>1.404865</td>\n",
              "      <td>1.790308</td>\n",
              "      <td>0.468029</td>\n",
              "      <td>00:02</td>\n",
              "    </tr>\n",
              "    <tr>\n",
              "      <td>2</td>\n",
              "      <td>1.418028</td>\n",
              "      <td>1.639951</td>\n",
              "      <td>0.491324</td>\n",
              "      <td>00:04</td>\n",
              "    </tr>\n",
              "    <tr>\n",
              "      <td>3</td>\n",
              "      <td>1.377681</td>\n",
              "      <td>1.634732</td>\n",
              "      <td>0.493939</td>\n",
              "      <td>00:03</td>\n",
              "    </tr>\n",
              "  </tbody>\n",
              "</table>"
            ]
          },
          "metadata": {}
        }
      ]
    },
    {
      "cell_type": "markdown",
      "metadata": {
        "id": "9vwihnnvLkZk"
      },
      "source": [
        "También podemos refactorizar nuestra representación del mismo modo."
      ]
    },
    {
      "cell_type": "markdown",
      "metadata": {
        "id": "RnZcmleeLkZl"
      },
      "source": [
        "<img alt=\"Basic recurrent neural network\" width=\"400\" caption=\"Basic recurrent neural network\" id=\"basic_rnn\" src=\"https://github.com/IA1920/images/blob/master/images/att_00070.png?raw=1\">"
      ]
    },
    {
      "cell_type": "markdown",
      "metadata": {
        "id": "NtR8upOdLkZq"
      },
      "source": [
        "Ahora que tenemos una red RNN, vamos a mejorarla."
      ]
    },
    {
      "cell_type": "markdown",
      "metadata": {
        "id": "Fbv0VYe_LkZr"
      },
      "source": [
        "## Mejorando la RNN"
      ]
    },
    {
      "cell_type": "markdown",
      "metadata": {
        "id": "WbcC_B8KLkZr"
      },
      "source": [
        "Vamos a ver cómo mejorar la RNN que hemos construido."
      ]
    },
    {
      "cell_type": "markdown",
      "metadata": {
        "id": "mdkWv_E8LkZs"
      },
      "source": [
        "### Manteniendo el estado de una RNN"
      ]
    },
    {
      "cell_type": "markdown",
      "metadata": {
        "id": "S9FKkGCCLkZu"
      },
      "source": [
        "Si nos fijamos en el código de nuestro modelo, el estado oculto (representando mediante `h`) se reinicia a 0 para cada nueva secuencia. Por lo tanto se pierde toda la información de las secuencias que habían aparecido anteriormente, lo que significa que el modelo no sabe en que punto de la secuencia global se encuentra. Esto se puede resolver facilmente moviendo la inicialización del estado oculto al constructor.\n",
        "\n",
        "Sin embargo, esto tiene un problema asociado, debido a que de este modo estaríamos construyendo una red neuronal tan profunda como el número de tokens de nuestro documento. Por ejemplo, si hay 10000 tokens en nuestro dataset, entonces crearíamos una red con 10000 capas.\n",
        "\n",
        "Para ver esto, consideremos la imagen original de nuestra red recurrente antes de refactorizarla incluyendo el bucle. En dicha imagen podemos ver que cada capa se corresponde con un token de entrada.\n",
        "\n",
        "<img alt=\"Pictorial representation of simple neural network\" width=\"400\" src=\"https://github.com/IA1920/images/blob/master/images/att_00020.png?raw=1\" caption=\"Pictorial representation of simple neural network\" id=\"img_simple_nn\">\n",
        "\n",
        "El problema con una red de 10000 capas es que cuando llegas a la palabra número diezmil del dataset, todavía necesitas calcular todas las derivadas que van hasta la primera capa. Esto es muy lento, y es bastante improbable que se pueda almacenar un batch en la GPU.\n",
        "\n",
        "La solución a este problema consiste en decir a PyTorch que no propague hacia atrás todas las derivadas en la red, y en su lugar se almacenan solo las tres últimas capas de gradientes. Esto se hace mediante el método `detach`.\n",
        "\n",
        "A continuación tenemos la nueva versión de nuestro modelo RNN. Ahora este modelo almacena el estado ya que recuerda las salidas entre las diferentes llamadas al método `forward`."
      ]
    },
    {
      "cell_type": "code",
      "metadata": {
        "id": "nGtbFxKILkZv"
      },
      "source": [
        "class LMModel3(Module):\n",
        "    def __init__(self, vocab_sz, n_hidden):\n",
        "        self.i_h = nn.Embedding(vocab_sz, n_hidden)\n",
        "        self.h_h = nn.Linear(n_hidden, n_hidden)\n",
        "        self.h_o = nn.Linear(n_hidden,vocab_sz)\n",
        "        self.h = 0\n",
        "\n",
        "    def forward(self, x):\n",
        "        for i in range(3):\n",
        "            self.h = self.h + self.i_h(x[:,i])\n",
        "            self.h = F.relu(self.h_h(self.h))\n",
        "        out = self.h_o(self.h)\n",
        "        self.h = self.h.detach()\n",
        "        return out\n",
        "\n",
        "    def reset(self): self.h = 0"
      ],
      "execution_count": 18,
      "outputs": []
    },
    {
      "cell_type": "markdown",
      "metadata": {
        "id": "7kbpjrrPLkZ0"
      },
      "source": [
        "Para usar `LMModel3`, nos tenemos que asegurar que el modelo va a ver las secuencias en un cierto orden. Es decir, el modelo tiene que ver las secuencias en el mismo orden que aparecen en el texto. Para ello tenemos que reorganizar el dataset.\n",
        "\n",
        "En primer lugar dividimos la muestra en `m = len(dset) // bs` grupos (esto es equivalente a partir el dataset completo en grupos de, por ejemplo, 64 piezas iguales (dado que estamos usando `bs=64`). Por lo tanto, `m` es la longitud de cada una de esas piezas. Por ejemplo, si usamos el dataset completo esto sería:"
      ]
    },
    {
      "cell_type": "code",
      "metadata": {
        "id": "BnypYX1XLkZ0",
        "outputId": "3dbdbba9-e4cc-4811-ae1c-c934c90ee8dd",
        "colab": {
          "base_uri": "https://localhost:8080/"
        }
      },
      "source": [
        "m = len(seqs)//bs\n",
        "m,bs,len(seqs)"
      ],
      "execution_count": 19,
      "outputs": [
        {
          "output_type": "execute_result",
          "data": {
            "text/plain": [
              "(328, 64, 21031)"
            ]
          },
          "metadata": {},
          "execution_count": 19
        }
      ]
    },
    {
      "cell_type": "markdown",
      "metadata": {
        "id": "t8MhoJG2LkZ5"
      },
      "source": [
        "El primer batch estaría compuesto por las muestras:\n",
        "\n",
        "    (0, m, 2*m, ..., (bs-1)*m)\n",
        "\n",
        "el segundo por las muestras:\n",
        "\n",
        "    (1, m+1, 2*m+1, ..., (bs-1)*m+1)\n",
        "\n",
        "y así sucesivamente. De este modo, en cada época, el modelo veo una parte continua del texto de tamaño  `3*m` (ya que cada secuencia de texto tiene tamaño 3)\n",
        "\n",
        "La siguiente función se encarga de ello."
      ]
    },
    {
      "cell_type": "code",
      "metadata": {
        "id": "_ifUDoMyLkZ5"
      },
      "source": [
        "def group_chunks(ds, bs):\n",
        "    m = len(ds) // bs\n",
        "    new_ds = L()\n",
        "    for i in range(m): new_ds += L(ds[i + m*j] for j in range(bs))\n",
        "    return new_ds"
      ],
      "execution_count": 20,
      "outputs": []
    },
    {
      "cell_type": "markdown",
      "metadata": {
        "id": "-OdpddSVLkZ8"
      },
      "source": [
        "Seguidamente definimos de nuevo nuestro `DataLoader` pero en este caso le indicamos que descarte el último batch que no tiene la dimensión adecuada (`drop_last=True`) ya que es raro que el tamaño sea divisible exactamente por el `bs`. También le indicamos que el texto se lea en orden mediante `shuffle=False`."
      ]
    },
    {
      "cell_type": "code",
      "metadata": {
        "id": "eHVM-CmhLkZ9"
      },
      "source": [
        "cut = int(len(seqs) * 0.8)\n",
        "dls = DataLoaders.from_dsets(\n",
        "    group_chunks(seqs[:cut], bs),\n",
        "    group_chunks(seqs[cut:], bs),\n",
        "    bs=bs, drop_last=True, shuffle=False)"
      ],
      "execution_count": 21,
      "outputs": []
    },
    {
      "cell_type": "markdown",
      "metadata": {
        "id": "O2-BUFk1LkZ_"
      },
      "source": [
        "Ahora ya podemos definir nuestro nuevo `Learner` igual que antes con una salvedad. En concreto a nuestro bucle de entrenamiento le vamos a añadir un `Callback`, que son funciones que añaden funcionalidad al proceso de entrenamiento. En este caso el `Callback` va a llamar al método `reset` del modelo al principio de cada época y antes de la fase de validación. Esto hace que podamos empezar con un estado limpio antes de leer nuevos bloques de texto. Además ahora es posible entrenar el modelo por más tiempo sin sufrir overfitting."
      ]
    },
    {
      "cell_type": "code",
      "metadata": {
        "id": "gAjk6xVTLkaA",
        "outputId": "6b090802-bce2-4dcf-dce2-9577330b3bca",
        "colab": {
          "base_uri": "https://localhost:8080/",
          "height": 363
        }
      },
      "source": [
        "learn = Learner(dls, LMModel3(len(vocab), 64), loss_func=F.cross_entropy, metrics=accuracy, cbs=ModelResetter)\n",
        "learn.fit_one_cycle(10, 3e-3)"
      ],
      "execution_count": 22,
      "outputs": [
        {
          "output_type": "display_data",
          "data": {
            "text/plain": [
              "<IPython.core.display.HTML object>"
            ],
            "text/html": [
              "\n",
              "<style>\n",
              "    /* Turns off some styling */\n",
              "    progress {\n",
              "        /* gets rid of default border in Firefox and Opera. */\n",
              "        border: none;\n",
              "        /* Needs to be in here for Safari polyfill so background images work as expected. */\n",
              "        background-size: auto;\n",
              "    }\n",
              "    progress:not([value]), progress:not([value])::-webkit-progress-bar {\n",
              "        background: repeating-linear-gradient(45deg, #7e7e7e, #7e7e7e 10px, #5c5c5c 10px, #5c5c5c 20px);\n",
              "    }\n",
              "    .progress-bar-interrupted, .progress-bar-interrupted::-webkit-progress-bar {\n",
              "        background: #F44336;\n",
              "    }\n",
              "</style>\n"
            ]
          },
          "metadata": {}
        },
        {
          "output_type": "display_data",
          "data": {
            "text/plain": [
              "<IPython.core.display.HTML object>"
            ],
            "text/html": [
              "<table border=\"1\" class=\"dataframe\">\n",
              "  <thead>\n",
              "    <tr style=\"text-align: left;\">\n",
              "      <th>epoch</th>\n",
              "      <th>train_loss</th>\n",
              "      <th>valid_loss</th>\n",
              "      <th>accuracy</th>\n",
              "      <th>time</th>\n",
              "    </tr>\n",
              "  </thead>\n",
              "  <tbody>\n",
              "    <tr>\n",
              "      <td>0</td>\n",
              "      <td>1.695530</td>\n",
              "      <td>1.768149</td>\n",
              "      <td>0.467788</td>\n",
              "      <td>00:03</td>\n",
              "    </tr>\n",
              "    <tr>\n",
              "      <td>1</td>\n",
              "      <td>1.266236</td>\n",
              "      <td>1.720042</td>\n",
              "      <td>0.476923</td>\n",
              "      <td>00:03</td>\n",
              "    </tr>\n",
              "    <tr>\n",
              "      <td>2</td>\n",
              "      <td>1.040809</td>\n",
              "      <td>1.478196</td>\n",
              "      <td>0.550481</td>\n",
              "      <td>00:04</td>\n",
              "    </tr>\n",
              "    <tr>\n",
              "      <td>3</td>\n",
              "      <td>0.965620</td>\n",
              "      <td>1.446377</td>\n",
              "      <td>0.550962</td>\n",
              "      <td>00:03</td>\n",
              "    </tr>\n",
              "    <tr>\n",
              "      <td>4</td>\n",
              "      <td>0.922278</td>\n",
              "      <td>1.661821</td>\n",
              "      <td>0.556971</td>\n",
              "      <td>00:03</td>\n",
              "    </tr>\n",
              "    <tr>\n",
              "      <td>5</td>\n",
              "      <td>0.874955</td>\n",
              "      <td>1.536453</td>\n",
              "      <td>0.590144</td>\n",
              "      <td>00:04</td>\n",
              "    </tr>\n",
              "    <tr>\n",
              "      <td>6</td>\n",
              "      <td>0.846148</td>\n",
              "      <td>1.550829</td>\n",
              "      <td>0.602644</td>\n",
              "      <td>00:03</td>\n",
              "    </tr>\n",
              "    <tr>\n",
              "      <td>7</td>\n",
              "      <td>0.770392</td>\n",
              "      <td>1.662567</td>\n",
              "      <td>0.609375</td>\n",
              "      <td>00:03</td>\n",
              "    </tr>\n",
              "    <tr>\n",
              "      <td>8</td>\n",
              "      <td>0.741835</td>\n",
              "      <td>1.701783</td>\n",
              "      <td>0.614904</td>\n",
              "      <td>00:03</td>\n",
              "    </tr>\n",
              "    <tr>\n",
              "      <td>9</td>\n",
              "      <td>0.718295</td>\n",
              "      <td>1.701640</td>\n",
              "      <td>0.621394</td>\n",
              "      <td>00:04</td>\n",
              "    </tr>\n",
              "  </tbody>\n",
              "</table>"
            ]
          },
          "metadata": {}
        }
      ]
    },
    {
      "cell_type": "markdown",
      "metadata": {
        "id": "428WyaklLkaF"
      },
      "source": [
        "### Creando más señal"
      ]
    },
    {
      "cell_type": "markdown",
      "metadata": {
        "id": "hhQbCZuiLkaF"
      },
      "source": [
        "Otro problema con la aproximación que estamos utilizando es que solo predecimos una palabra para cada tres palabras de entrada. Esto significa que la cantidad de información que le estamos pasando a los pesos cuando se actulizan no es todo lo grande que podría ser. Sería mejor si predijeramos la siguiente palabra a partir de la palabra anterior, en lugar de cada tres palabras como se muestra en la siguiente figura."
      ]
    },
    {
      "cell_type": "markdown",
      "metadata": {
        "id": "umJDJwr-LkaF"
      },
      "source": [
        "<img alt=\"RNN predicting after every token\" width=\"400\" caption=\"RNN predicting after every token\" id=\"stateful_rep\" src=\"https://github.com/IA1920/images/blob/master/images/att_00024.png?raw=1\">"
      ]
    },
    {
      "cell_type": "markdown",
      "metadata": {
        "id": "KbkK0geULkaH"
      },
      "source": [
        "Esto es bastante sencillo de añadir. Primero tenemos que cambiar nuestros datos de manera que nuestra \"y\" no sea la palabra que sigue a la última de las tres palabras de la secuencia sino que sea las tres palabras siguientes a cada una de la palabra de la sencuencia. En lugar de 3, vamos a usar un atributo, `ls` (por longitud de secuencia) y a hacerlas un poco más grandes."
      ]
    },
    {
      "cell_type": "code",
      "metadata": {
        "id": "aczawZW5LkaH"
      },
      "source": [
        "ls = 16\n",
        "seqs = L((tensor(nums[i:i+ls]), tensor(nums[i+1:i+ls+1]))\n",
        "         for i in range(0,len(nums)-ls-1,ls))\n",
        "cut = int(len(seqs) * 0.8)\n",
        "dls = DataLoaders.from_dsets(group_chunks(seqs[:cut], bs),\n",
        "                             group_chunks(seqs[cut:], bs),\n",
        "                             bs=bs, drop_last=True, shuffle=False)"
      ],
      "execution_count": 23,
      "outputs": []
    },
    {
      "cell_type": "markdown",
      "metadata": {
        "id": "BUWSAU23LkaL"
      },
      "source": [
        "Si nos fijamos en el primer elemento de `seqs`, vemos que contiene dos listas del mismo tamaño. La segunda es la misma lista que la primera pero desplazada una posición a la derecha."
      ]
    },
    {
      "cell_type": "code",
      "metadata": {
        "id": "GT6-QN6iLkaM",
        "outputId": "cd49f398-014c-4354-9fe1-76ecd01714cf",
        "colab": {
          "base_uri": "https://localhost:8080/"
        }
      },
      "source": [
        "[L(vocab[o] for o in s) for s in seqs[0]]"
      ],
      "execution_count": 24,
      "outputs": [
        {
          "output_type": "execute_result",
          "data": {
            "text/plain": [
              "[(#16) ['one','.','two','.','three','.','four','.','five','.'...],\n",
              " (#16) ['.','two','.','three','.','four','.','five','.','six'...]]"
            ]
          },
          "metadata": {},
          "execution_count": 24
        }
      ]
    },
    {
      "cell_type": "markdown",
      "metadata": {
        "id": "7Wtuc6U6LkaQ"
      },
      "source": [
        "Ahora debemos modificar el modelo de manera que realice una predicción cada nueva palabra, en lugar de solo al final de la secuencia."
      ]
    },
    {
      "cell_type": "code",
      "metadata": {
        "id": "oMYhPwPSLkaQ"
      },
      "source": [
        "class LMModel4(Module):\n",
        "    def __init__(self, vocab_sz, n_hidden):\n",
        "        self.i_h = nn.Embedding(vocab_sz, n_hidden)\n",
        "        self.h_h = nn.Linear(n_hidden, n_hidden)\n",
        "        self.h_o = nn.Linear(n_hidden,vocab_sz)\n",
        "        self.h = 0\n",
        "\n",
        "    def forward(self, x):\n",
        "        outs = []\n",
        "        for i in range(ls):\n",
        "            self.h = self.h + self.i_h(x[:,i])\n",
        "            self.h = F.relu(self.h_h(self.h))\n",
        "            outs.append(self.h_o(self.h))\n",
        "        self.h = self.h.detach()\n",
        "        return torch.stack(outs, dim=1)\n",
        "\n",
        "    def reset(self): self.h = 0"
      ],
      "execution_count": 25,
      "outputs": []
    },
    {
      "cell_type": "markdown",
      "metadata": {
        "id": "MCSrhAhKLkaT"
      },
      "source": [
        "Este modelo va a devolver salidas de la forma `bs x sl x vocab_sz` (ya que las estamos apilando en `dim=1`). Nuestros objetivos son de la forma `bs x sl`, por lo tanto será necesario aplanarlas antes de calcular la pérdida. Es por esto por lo que definimos una nueva función de pérdida a partir de la `F.cross_entropy`:"
      ]
    },
    {
      "cell_type": "code",
      "metadata": {
        "id": "0k6Eg1vWLkaT"
      },
      "source": [
        "def loss_func(inp, targ):\n",
        "    return F.cross_entropy(inp.view(-1, len(vocab)), targ.view(-1))"
      ],
      "execution_count": 26,
      "outputs": []
    },
    {
      "cell_type": "markdown",
      "metadata": {
        "id": "8GXof288LkaV"
      },
      "source": [
        "Ahora podemos entrenar el modelo."
      ]
    },
    {
      "cell_type": "code",
      "metadata": {
        "id": "MG1H-k_aLkaX",
        "outputId": "7bc79b73-1d0a-4685-cd6c-a21fa5c75a91",
        "colab": {
          "base_uri": "https://localhost:8080/",
          "height": 519
        }
      },
      "source": [
        "learn = Learner(dls, LMModel4(len(vocab), 64), loss_func=loss_func,\n",
        "                metrics=accuracy, cbs=ModelResetter)\n",
        "learn.fit_one_cycle(15, 3e-3)"
      ],
      "execution_count": 27,
      "outputs": [
        {
          "output_type": "display_data",
          "data": {
            "text/plain": [
              "<IPython.core.display.HTML object>"
            ],
            "text/html": [
              "\n",
              "<style>\n",
              "    /* Turns off some styling */\n",
              "    progress {\n",
              "        /* gets rid of default border in Firefox and Opera. */\n",
              "        border: none;\n",
              "        /* Needs to be in here for Safari polyfill so background images work as expected. */\n",
              "        background-size: auto;\n",
              "    }\n",
              "    progress:not([value]), progress:not([value])::-webkit-progress-bar {\n",
              "        background: repeating-linear-gradient(45deg, #7e7e7e, #7e7e7e 10px, #5c5c5c 10px, #5c5c5c 20px);\n",
              "    }\n",
              "    .progress-bar-interrupted, .progress-bar-interrupted::-webkit-progress-bar {\n",
              "        background: #F44336;\n",
              "    }\n",
              "</style>\n"
            ]
          },
          "metadata": {}
        },
        {
          "output_type": "display_data",
          "data": {
            "text/plain": [
              "<IPython.core.display.HTML object>"
            ],
            "text/html": [
              "<table border=\"1\" class=\"dataframe\">\n",
              "  <thead>\n",
              "    <tr style=\"text-align: left;\">\n",
              "      <th>epoch</th>\n",
              "      <th>train_loss</th>\n",
              "      <th>valid_loss</th>\n",
              "      <th>accuracy</th>\n",
              "      <th>time</th>\n",
              "    </tr>\n",
              "  </thead>\n",
              "  <tbody>\n",
              "    <tr>\n",
              "      <td>0</td>\n",
              "      <td>3.281707</td>\n",
              "      <td>3.063851</td>\n",
              "      <td>0.186849</td>\n",
              "      <td>00:02</td>\n",
              "    </tr>\n",
              "    <tr>\n",
              "      <td>1</td>\n",
              "      <td>2.377263</td>\n",
              "      <td>1.945111</td>\n",
              "      <td>0.466878</td>\n",
              "      <td>00:02</td>\n",
              "    </tr>\n",
              "    <tr>\n",
              "      <td>2</td>\n",
              "      <td>1.774576</td>\n",
              "      <td>1.905869</td>\n",
              "      <td>0.451090</td>\n",
              "      <td>00:02</td>\n",
              "    </tr>\n",
              "    <tr>\n",
              "      <td>3</td>\n",
              "      <td>1.479352</td>\n",
              "      <td>1.866896</td>\n",
              "      <td>0.499268</td>\n",
              "      <td>00:02</td>\n",
              "    </tr>\n",
              "    <tr>\n",
              "      <td>4</td>\n",
              "      <td>1.289219</td>\n",
              "      <td>1.867733</td>\n",
              "      <td>0.530192</td>\n",
              "      <td>00:03</td>\n",
              "    </tr>\n",
              "    <tr>\n",
              "      <td>5</td>\n",
              "      <td>1.133171</td>\n",
              "      <td>1.987347</td>\n",
              "      <td>0.570394</td>\n",
              "      <td>00:02</td>\n",
              "    </tr>\n",
              "    <tr>\n",
              "      <td>6</td>\n",
              "      <td>1.006912</td>\n",
              "      <td>1.811782</td>\n",
              "      <td>0.566569</td>\n",
              "      <td>00:02</td>\n",
              "    </tr>\n",
              "    <tr>\n",
              "      <td>7</td>\n",
              "      <td>0.897905</td>\n",
              "      <td>1.899547</td>\n",
              "      <td>0.596924</td>\n",
              "      <td>00:02</td>\n",
              "    </tr>\n",
              "    <tr>\n",
              "      <td>8</td>\n",
              "      <td>0.809897</td>\n",
              "      <td>1.997673</td>\n",
              "      <td>0.602376</td>\n",
              "      <td>00:02</td>\n",
              "    </tr>\n",
              "    <tr>\n",
              "      <td>9</td>\n",
              "      <td>0.742621</td>\n",
              "      <td>1.947771</td>\n",
              "      <td>0.593180</td>\n",
              "      <td>00:03</td>\n",
              "    </tr>\n",
              "    <tr>\n",
              "      <td>10</td>\n",
              "      <td>0.683894</td>\n",
              "      <td>1.950839</td>\n",
              "      <td>0.594727</td>\n",
              "      <td>00:02</td>\n",
              "    </tr>\n",
              "    <tr>\n",
              "      <td>11</td>\n",
              "      <td>0.648629</td>\n",
              "      <td>2.046013</td>\n",
              "      <td>0.605143</td>\n",
              "      <td>00:02</td>\n",
              "    </tr>\n",
              "    <tr>\n",
              "      <td>12</td>\n",
              "      <td>0.628721</td>\n",
              "      <td>1.959570</td>\n",
              "      <td>0.604736</td>\n",
              "      <td>00:02</td>\n",
              "    </tr>\n",
              "    <tr>\n",
              "      <td>13</td>\n",
              "      <td>0.604897</td>\n",
              "      <td>1.973162</td>\n",
              "      <td>0.601074</td>\n",
              "      <td>00:02</td>\n",
              "    </tr>\n",
              "    <tr>\n",
              "      <td>14</td>\n",
              "      <td>0.591456</td>\n",
              "      <td>1.995763</td>\n",
              "      <td>0.604411</td>\n",
              "      <td>00:04</td>\n",
              "    </tr>\n",
              "  </tbody>\n",
              "</table>"
            ]
          },
          "metadata": {}
        }
      ]
    },
    {
      "cell_type": "markdown",
      "metadata": {
        "id": "5eIgRdPpLkaZ"
      },
      "source": [
        "Es necesario entrenar por más tiempo ya que la tarea es más compleja, y como vemos obtenemos mejores resultados.\n",
        "\n",
        "Para mejorar el modelo tenemos que aumentar la profundidad del modelo. En este momento nuestra red solo tiene una capa oculta, así que vamos a ver si es posible obtener mejores resultados añadiendo más capas."
      ]
    },
    {
      "cell_type": "markdown",
      "metadata": {
        "id": "79X7k6-fLkaa"
      },
      "source": [
        "## RNNs multicapa"
      ]
    },
    {
      "cell_type": "markdown",
      "metadata": {
        "id": "q-D6clToLkaa"
      },
      "source": [
        "En una red RNN multicapa, las salidas de nuestra red recurrente se pasan como entrada a una nueva red RNN como se muestra en el siguiente diagrama."
      ]
    },
    {
      "cell_type": "markdown",
      "metadata": {
        "id": "Ic7xDpdcLkab"
      },
      "source": [
        "<img alt=\"2-layer RNN\" width=\"550\" caption=\"2-layer RNN\" id=\"stacked_rnn_rep\" src=\"https://github.com/IA1920/images/blob/master/images/att_00025.png?raw=1\">"
      ]
    },
    {
      "cell_type": "markdown",
      "metadata": {
        "id": "FrpXYxptLkac"
      },
      "source": [
        "O si usamos una representación expandida del siguiente modo."
      ]
    },
    {
      "cell_type": "markdown",
      "metadata": {
        "id": "UNyH4JXzLkac"
      },
      "source": [
        "<img alt=\"2-layer unrolled RNN\" width=\"500\" caption=\"2-layer unrolled RNN\" id=\"unrolled_stack_rep\" src=\"https://github.com/IA1920/images/blob/master/images/att_00026.png?raw=1\">"
      ]
    },
    {
      "cell_type": "markdown",
      "metadata": {
        "id": "7PMvn2QzLkac"
      },
      "source": [
        "Vamos a ver cómo implementar esto en la práctica."
      ]
    },
    {
      "cell_type": "markdown",
      "metadata": {
        "id": "SSGm_DcaLkad"
      },
      "source": [
        "## El modelo"
      ]
    },
    {
      "cell_type": "markdown",
      "metadata": {
        "id": "0nHCBWmPLkae"
      },
      "source": [
        "En lugar de implementar desde cero la red RNN vamos a utilizar la definición de RNN proporcionada por PyTorch que está implementada del mismo modo que hemos explicado anteriormente, pero que además nos da la opción de apilar capas RNN."
      ]
    },
    {
      "cell_type": "code",
      "metadata": {
        "id": "sX0Fyf_qLkaf"
      },
      "source": [
        "class LMModel5(Module):\n",
        "    def __init__(self, vocab_sz, n_hidden, n_layers):\n",
        "        self.i_h = nn.Embedding(vocab_sz, n_hidden)\n",
        "        self.rnn = nn.RNN(n_hidden, n_hidden, n_layers, batch_first=True)\n",
        "        self.h_o = nn.Linear(n_hidden, vocab_sz)\n",
        "        self.h = torch.zeros(n_layers, bs, n_hidden)\n",
        "\n",
        "    def forward(self, x):\n",
        "        res,h = self.rnn(self.i_h(x), self.h)\n",
        "        self.h = h.detach()\n",
        "        return self.h_o(res)\n",
        "\n",
        "    def reset(self): self.h.zero_()"
      ],
      "execution_count": 28,
      "outputs": []
    },
    {
      "cell_type": "markdown",
      "metadata": {
        "id": "l1QI5dL6MqvL"
      },
      "source": [
        "Ahora ya podemos entrenar nuestro nuevo modelo."
      ]
    },
    {
      "cell_type": "code",
      "metadata": {
        "id": "Co7wCUHmLkah",
        "outputId": "c236a0d4-18e0-47b5-e72d-31b13702947a",
        "colab": {
          "base_uri": "https://localhost:8080/",
          "height": 519
        }
      },
      "source": [
        "learn = Learner(dls, LMModel5(len(vocab), 64, 2),\n",
        "                loss_func=CrossEntropyLossFlat(),\n",
        "                metrics=accuracy, cbs=ModelResetter)\n",
        "learn.fit_one_cycle(15, 3e-3)"
      ],
      "execution_count": 29,
      "outputs": [
        {
          "output_type": "display_data",
          "data": {
            "text/plain": [
              "<IPython.core.display.HTML object>"
            ],
            "text/html": [
              "\n",
              "<style>\n",
              "    /* Turns off some styling */\n",
              "    progress {\n",
              "        /* gets rid of default border in Firefox and Opera. */\n",
              "        border: none;\n",
              "        /* Needs to be in here for Safari polyfill so background images work as expected. */\n",
              "        background-size: auto;\n",
              "    }\n",
              "    progress:not([value]), progress:not([value])::-webkit-progress-bar {\n",
              "        background: repeating-linear-gradient(45deg, #7e7e7e, #7e7e7e 10px, #5c5c5c 10px, #5c5c5c 20px);\n",
              "    }\n",
              "    .progress-bar-interrupted, .progress-bar-interrupted::-webkit-progress-bar {\n",
              "        background: #F44336;\n",
              "    }\n",
              "</style>\n"
            ]
          },
          "metadata": {}
        },
        {
          "output_type": "display_data",
          "data": {
            "text/plain": [
              "<IPython.core.display.HTML object>"
            ],
            "text/html": [
              "<table border=\"1\" class=\"dataframe\">\n",
              "  <thead>\n",
              "    <tr style=\"text-align: left;\">\n",
              "      <th>epoch</th>\n",
              "      <th>train_loss</th>\n",
              "      <th>valid_loss</th>\n",
              "      <th>accuracy</th>\n",
              "      <th>time</th>\n",
              "    </tr>\n",
              "  </thead>\n",
              "  <tbody>\n",
              "    <tr>\n",
              "      <td>0</td>\n",
              "      <td>3.025695</td>\n",
              "      <td>2.566232</td>\n",
              "      <td>0.450928</td>\n",
              "      <td>00:02</td>\n",
              "    </tr>\n",
              "    <tr>\n",
              "      <td>1</td>\n",
              "      <td>2.151217</td>\n",
              "      <td>1.747383</td>\n",
              "      <td>0.471110</td>\n",
              "      <td>00:02</td>\n",
              "    </tr>\n",
              "    <tr>\n",
              "      <td>2</td>\n",
              "      <td>1.707487</td>\n",
              "      <td>1.835252</td>\n",
              "      <td>0.375570</td>\n",
              "      <td>00:02</td>\n",
              "    </tr>\n",
              "    <tr>\n",
              "      <td>3</td>\n",
              "      <td>1.505000</td>\n",
              "      <td>1.772657</td>\n",
              "      <td>0.479492</td>\n",
              "      <td>00:03</td>\n",
              "    </tr>\n",
              "    <tr>\n",
              "      <td>4</td>\n",
              "      <td>1.303287</td>\n",
              "      <td>1.651063</td>\n",
              "      <td>0.509277</td>\n",
              "      <td>00:03</td>\n",
              "    </tr>\n",
              "    <tr>\n",
              "      <td>5</td>\n",
              "      <td>1.081480</td>\n",
              "      <td>1.641879</td>\n",
              "      <td>0.534424</td>\n",
              "      <td>00:02</td>\n",
              "    </tr>\n",
              "    <tr>\n",
              "      <td>6</td>\n",
              "      <td>0.881737</td>\n",
              "      <td>1.638031</td>\n",
              "      <td>0.551921</td>\n",
              "      <td>00:02</td>\n",
              "    </tr>\n",
              "    <tr>\n",
              "      <td>7</td>\n",
              "      <td>0.726431</td>\n",
              "      <td>1.558266</td>\n",
              "      <td>0.566162</td>\n",
              "      <td>00:02</td>\n",
              "    </tr>\n",
              "    <tr>\n",
              "      <td>8</td>\n",
              "      <td>0.606947</td>\n",
              "      <td>1.473434</td>\n",
              "      <td>0.570719</td>\n",
              "      <td>00:02</td>\n",
              "    </tr>\n",
              "    <tr>\n",
              "      <td>9</td>\n",
              "      <td>0.518251</td>\n",
              "      <td>1.349845</td>\n",
              "      <td>0.594157</td>\n",
              "      <td>00:03</td>\n",
              "    </tr>\n",
              "    <tr>\n",
              "      <td>10</td>\n",
              "      <td>0.454471</td>\n",
              "      <td>1.370231</td>\n",
              "      <td>0.603678</td>\n",
              "      <td>00:02</td>\n",
              "    </tr>\n",
              "    <tr>\n",
              "      <td>11</td>\n",
              "      <td>0.413566</td>\n",
              "      <td>1.372857</td>\n",
              "      <td>0.604899</td>\n",
              "      <td>00:02</td>\n",
              "    </tr>\n",
              "    <tr>\n",
              "      <td>12</td>\n",
              "      <td>0.385363</td>\n",
              "      <td>1.362096</td>\n",
              "      <td>0.601318</td>\n",
              "      <td>00:02</td>\n",
              "    </tr>\n",
              "    <tr>\n",
              "      <td>13</td>\n",
              "      <td>0.368118</td>\n",
              "      <td>1.381898</td>\n",
              "      <td>0.603760</td>\n",
              "      <td>00:02</td>\n",
              "    </tr>\n",
              "    <tr>\n",
              "      <td>14</td>\n",
              "      <td>0.359174</td>\n",
              "      <td>1.387820</td>\n",
              "      <td>0.600586</td>\n",
              "      <td>00:03</td>\n",
              "    </tr>\n",
              "  </tbody>\n",
              "</table>"
            ]
          },
          "metadata": {}
        }
      ]
    },
    {
      "cell_type": "markdown",
      "metadata": {
        "id": "qT94CggELkas"
      },
      "source": [
        "Como vemos los resultados son peores que con el modelo de una sola capa RNN ¿estamos haciendo algo mal? El problema cuando se aumenta la profundidad de las redes neuronales es que las salidas de las capas tienden o a explotar o a desaparecer, complicando de este modo el proceso de aprendizaje."
      ]
    },
    {
      "cell_type": "markdown",
      "metadata": {
        "id": "BLpJoJqpLkas"
      },
      "source": [
        "### Explosión y desaparición de salidas"
      ]
    },
    {
      "cell_type": "markdown",
      "metadata": {
        "id": "WNP8FturLkat"
      },
      "source": [
        "En la práctica, crear modelos usando RNN es difícil. Obtendremos mejores resultados si llamamos a la función  `detach` de manera frecuentemente y añadir más capas. De este modo la RNN tiene más tiempo para aprender descriptores más ricos. Pero esto también significa que tenemos un modelo más profundo que entrenar. El problema clave en el desarrollo del deep learning ha sido averiguar como entrenar este tipo de modelos.\n",
        "\n",
        "La razón para que esto sea complejo es lo que ocurre cuando multiplicamos una matriz varias veces. Para entender esto pensemos que ocurre cuando multiplicamos un número múltiples veces. Por ejemplo, si multiplicamos por 2 y empezamos por uno tenemos la secuencia 1, 2, 4, 8, ... y después de 32 pasos hemos llegado al número 4294967296. Algo parecido ocurre cuando multiplicamos por 0,5: obtenemos 0.5, 0.25, 0.125, ...  y después de 32 pasos tenemos 0.00000000023. Como podemos ver, un número ligeramente superior o inferior a 1 provoca una explosión o la desaparición de ese número después de unas pocas multiplicaciones.\n",
        "\n",
        "Debido a que la multiplicación de matrices es solo multiplicar números y sumarlos, el mismo problema aparece al multiplicar matrices. Y una red neuronal al final es una multiplicación repetidad de múltiples matrices. Esto significa que una red neuronal acabe trabajando con números extremadamente grandes o extremadamente pequeños.\n",
        "\n",
        "Esto es un problema debido al modo en el que los ordenadores almacenan los números (en \"coma flotante\"), ya que esta representación se vuelve menos precisa a medida que nos alejamos de cero. Esto se explica de forma clara en el artículo [What you never wanted to know about floating point but will be forced to find out](http://www.volkerschatz.com/science/float.html)."
      ]
    },
    {
      "cell_type": "markdown",
      "metadata": {
        "id": "TjKOfu8aLkau"
      },
      "source": [
        "Esto significa que los gradientes que se calculan al actualizar los pesos tienden siendo cero o infinito para las redes profundas. Este problema se conoce como *vanishing gradients* o *exploding gradients*. Esto significa eque en el proceso de propagación hacia atrás, los pesos o bien no se actualizan o saltan al infinito. En cualquiera de los dos casos esto impide el entrenamiento.\n",
        "\n",
        "Para resolver este problema, se han diseñado distintas aproximaciones. Una de ellas consiste en cambiar la definición de una capa de forma que se eviten los problemas. Para las RNNs existen dos tipos de capas que evitan estos problemas y son las GRUs, y las LSTM. Ambas están disponibles en PyTorch, pero nosotros nos centraremos en el uso de las LSTM, ya que las GRUs son una pequeña variante de las LSTM."
      ]
    },
    {
      "cell_type": "markdown",
      "metadata": {
        "id": "v85uppelLkau"
      },
      "source": [
        "## LSTM"
      ]
    },
    {
      "cell_type": "markdown",
      "metadata": {
        "id": "IM9N9BSmLka_"
      },
      "source": [
        "Vamos a crear un modelo equivalente al `LMModel5`, usando una LSTM con dos capas."
      ]
    },
    {
      "cell_type": "code",
      "metadata": {
        "id": "4tuaefzzLka_"
      },
      "source": [
        "class LMModel6(Module):\n",
        "    def __init__(self, vocab_sz, n_hidden, n_layers):\n",
        "        self.i_h = nn.Embedding(vocab_sz, n_hidden)\n",
        "        self.rnn = nn.LSTM(n_hidden, n_hidden, n_layers, batch_first=True)\n",
        "        self.h_o = nn.Linear(n_hidden, vocab_sz)\n",
        "        self.h = [torch.zeros(2, bs, n_hidden) for _ in range(n_layers)]\n",
        "\n",
        "    def forward(self, x):\n",
        "        res,h = self.rnn(self.i_h(x), self.h)\n",
        "        self.h = [h_.detach() for h_ in h]\n",
        "        return self.h_o(res)\n",
        "\n",
        "    def reset(self):\n",
        "        for h in self.h: h.zero_()"
      ],
      "execution_count": 30,
      "outputs": []
    },
    {
      "cell_type": "markdown",
      "metadata": {
        "id": "SY4QkjT8MqvN"
      },
      "source": [
        "Pasamos a entrenar el modelo."
      ]
    },
    {
      "cell_type": "code",
      "metadata": {
        "id": "8ACpEPwvLkbC",
        "outputId": "f982e352-f2b6-4f00-84cf-e2e995d47e45",
        "colab": {
          "base_uri": "https://localhost:8080/",
          "height": 519
        }
      },
      "source": [
        "learn = Learner(dls, LMModel6(len(vocab), 64, 2),\n",
        "                loss_func=CrossEntropyLossFlat(),\n",
        "                metrics=accuracy, cbs=ModelResetter)\n",
        "learn.fit_one_cycle(15, 1e-2)"
      ],
      "execution_count": 31,
      "outputs": [
        {
          "output_type": "display_data",
          "data": {
            "text/plain": [
              "<IPython.core.display.HTML object>"
            ],
            "text/html": [
              "\n",
              "<style>\n",
              "    /* Turns off some styling */\n",
              "    progress {\n",
              "        /* gets rid of default border in Firefox and Opera. */\n",
              "        border: none;\n",
              "        /* Needs to be in here for Safari polyfill so background images work as expected. */\n",
              "        background-size: auto;\n",
              "    }\n",
              "    progress:not([value]), progress:not([value])::-webkit-progress-bar {\n",
              "        background: repeating-linear-gradient(45deg, #7e7e7e, #7e7e7e 10px, #5c5c5c 10px, #5c5c5c 20px);\n",
              "    }\n",
              "    .progress-bar-interrupted, .progress-bar-interrupted::-webkit-progress-bar {\n",
              "        background: #F44336;\n",
              "    }\n",
              "</style>\n"
            ]
          },
          "metadata": {}
        },
        {
          "output_type": "display_data",
          "data": {
            "text/plain": [
              "<IPython.core.display.HTML object>"
            ],
            "text/html": [
              "<table border=\"1\" class=\"dataframe\">\n",
              "  <thead>\n",
              "    <tr style=\"text-align: left;\">\n",
              "      <th>epoch</th>\n",
              "      <th>train_loss</th>\n",
              "      <th>valid_loss</th>\n",
              "      <th>accuracy</th>\n",
              "      <th>time</th>\n",
              "    </tr>\n",
              "  </thead>\n",
              "  <tbody>\n",
              "    <tr>\n",
              "      <td>0</td>\n",
              "      <td>3.018731</td>\n",
              "      <td>2.759725</td>\n",
              "      <td>0.164144</td>\n",
              "      <td>00:03</td>\n",
              "    </tr>\n",
              "    <tr>\n",
              "      <td>1</td>\n",
              "      <td>2.225179</td>\n",
              "      <td>2.022135</td>\n",
              "      <td>0.251465</td>\n",
              "      <td>00:02</td>\n",
              "    </tr>\n",
              "    <tr>\n",
              "      <td>2</td>\n",
              "      <td>1.630419</td>\n",
              "      <td>2.044145</td>\n",
              "      <td>0.479818</td>\n",
              "      <td>00:03</td>\n",
              "    </tr>\n",
              "    <tr>\n",
              "      <td>3</td>\n",
              "      <td>1.330793</td>\n",
              "      <td>2.286891</td>\n",
              "      <td>0.491781</td>\n",
              "      <td>00:04</td>\n",
              "    </tr>\n",
              "    <tr>\n",
              "      <td>4</td>\n",
              "      <td>1.116942</td>\n",
              "      <td>2.210020</td>\n",
              "      <td>0.494629</td>\n",
              "      <td>00:03</td>\n",
              "    </tr>\n",
              "    <tr>\n",
              "      <td>5</td>\n",
              "      <td>0.861796</td>\n",
              "      <td>1.825894</td>\n",
              "      <td>0.607178</td>\n",
              "      <td>00:02</td>\n",
              "    </tr>\n",
              "    <tr>\n",
              "      <td>6</td>\n",
              "      <td>0.643671</td>\n",
              "      <td>2.205873</td>\n",
              "      <td>0.642904</td>\n",
              "      <td>00:02</td>\n",
              "    </tr>\n",
              "    <tr>\n",
              "      <td>7</td>\n",
              "      <td>0.465917</td>\n",
              "      <td>2.076083</td>\n",
              "      <td>0.701579</td>\n",
              "      <td>00:04</td>\n",
              "    </tr>\n",
              "    <tr>\n",
              "      <td>8</td>\n",
              "      <td>0.350885</td>\n",
              "      <td>2.018408</td>\n",
              "      <td>0.718018</td>\n",
              "      <td>00:02</td>\n",
              "    </tr>\n",
              "    <tr>\n",
              "      <td>9</td>\n",
              "      <td>0.273518</td>\n",
              "      <td>1.957418</td>\n",
              "      <td>0.726318</td>\n",
              "      <td>00:02</td>\n",
              "    </tr>\n",
              "    <tr>\n",
              "      <td>10</td>\n",
              "      <td>0.221666</td>\n",
              "      <td>1.906705</td>\n",
              "      <td>0.732829</td>\n",
              "      <td>00:02</td>\n",
              "    </tr>\n",
              "    <tr>\n",
              "      <td>11</td>\n",
              "      <td>0.188712</td>\n",
              "      <td>1.836155</td>\n",
              "      <td>0.736328</td>\n",
              "      <td>00:03</td>\n",
              "    </tr>\n",
              "    <tr>\n",
              "      <td>12</td>\n",
              "      <td>0.167559</td>\n",
              "      <td>1.828860</td>\n",
              "      <td>0.730469</td>\n",
              "      <td>00:03</td>\n",
              "    </tr>\n",
              "    <tr>\n",
              "      <td>13</td>\n",
              "      <td>0.150838</td>\n",
              "      <td>1.861027</td>\n",
              "      <td>0.745768</td>\n",
              "      <td>00:02</td>\n",
              "    </tr>\n",
              "    <tr>\n",
              "      <td>14</td>\n",
              "      <td>0.139793</td>\n",
              "      <td>1.864234</td>\n",
              "      <td>0.747559</td>\n",
              "      <td>00:02</td>\n",
              "    </tr>\n",
              "  </tbody>\n",
              "</table>"
            ]
          },
          "metadata": {}
        }
      ]
    },
    {
      "cell_type": "markdown",
      "metadata": {
        "id": "z8A4W_wnLkbF"
      },
      "source": [
        "En el modelo anterior se puede observar que se produce cierto sobreajuste que se puede resolver aplicando téncicas de regularización."
      ]
    },
    {
      "cell_type": "markdown",
      "metadata": {
        "id": "YQmDKbaJLkbF"
      },
      "source": [
        "## Reduciendo el sobreajuste en un LSTM"
      ]
    },
    {
      "cell_type": "markdown",
      "metadata": {
        "id": "aXM7zusULkbH"
      },
      "source": [
        "Las redes recurrentes son díficiles de entrenar debido a los problemas comentado anteriormente. El uso de las LSTM permite entrenar las con más facilidad, pero estas redes tienden a sufrir de sobreajuste. Una técnica para reducir este problema consiste en utilizar *data augmentation* (que no solo se puede aplicar a imágenes sino también a texto). Sin embargo no se suele usar de manera tan habitual en procesado de lenguaje ya que esta técnica suele requerir un modelo que genere aumentos aleatorios (por ejemplo, traduciendo de un lenguaje a otro y volviendo al lenguaje original).\n",
        "\n",
        "Sin embargo existen otras técnicas para reducir el sobreajuste en un LSTM que fueron estudiadas de manera detallada en el artículo [Regularizing and Optimizing LSTM Language Models](https://arxiv.org/abs/1708.02182). Este artículo mostró que se pueden mejorar los resultados de las LSTMs aplicando tres técnicas *dropout*, *activation regularization*, y *temporal activation regularization*."
      ]
    },
    {
      "cell_type": "markdown",
      "metadata": {
        "id": "n9XScNegLkbH"
      },
      "source": [
        "### Dropout"
      ]
    },
    {
      "cell_type": "markdown",
      "metadata": {
        "id": "nOZR6hWELkbI"
      },
      "source": [
        "Dropout es una técnica introducida por Geoffrey Hinton et al. en [Improving neural networks by preventing co-adaptation of feature detectors](https://arxiv.org/abs/1207.0580). La idea básica de esta técnica consiste en poner a cero algunas neuronas a medida que se van entrenando. Esto hace que todas las neuronas de la red trabajen para obtener una salida y así evitar neuronas sobre especializadas. Este método se representa con la siguiente figura:\n",
        "\n",
        "<img src=\"https://github.com/IA1920/images/blob/master/images/Dropout1.png?raw=1\" alt=\"A figure from the article showing how neurons go off with dropout\" width=\"800\" id=\"img_dropout\" caption=\"A screenshot from the dropout paper\">\n",
        "\n",
        "El autor del artículo explicaba esta técnica con la siguiente metáfora en una entrevista.\n",
        "\n",
        "> Fui al banco y me di cuenta que las personas que atendían en el banco cambiaban de manera frecuente. Al preguntar a uno de ellos por la razón de esto me dijo que no lo sabía pero que les movían de puesto de manera frecuente. Descubrí que esto debe deberse a que para defraudar al banco por parte de los empleados es necesario que cooperen. Esto me hizo darme cuenta de que eliminando de forma aleatoria un conjunto diferente de neuronas en cada batch del entrenamiento serviría para prevenir conspiraciones y reducir de este modo el sobreajuste"
      ]
    },
    {
      "cell_type": "markdown",
      "metadata": {
        "id": "Jjk0cJXxLkbN"
      },
      "source": [
        "El uso del dropout no se aplica a todas las capas de la red, sino que es suficiente con aplicarlo justo antes de la última capa de nuestra LSTM para redcuir el sobreajuste. El dropout no solo se utilizan en LSTMs sino que también se puede aplicar en las redes convolucionales o en redes neuronales feed-forward."
      ]
    },
    {
      "cell_type": "markdown",
      "metadata": {
        "id": "PS18C_T7LkbP"
      },
      "source": [
        "Por último hay que tener en cuenta que el dropout tiene un comportamiento diferente cuando estamos entrenando y cuando estamos usando el modelo ya entrenado. En concreto solo se desactivan neuronas durante el proceso de entrenamiento."
      ]
    },
    {
      "cell_type": "markdown",
      "metadata": {
        "id": "BVoKnGMRLkbP"
      },
      "source": [
        "### Las regularizaciones AR y TAR"
      ]
    },
    {
      "cell_type": "markdown",
      "metadata": {
        "id": "aHfl3AsjLkbQ"
      },
      "source": [
        "AR (del inglés *activation regularization*) y TAR (del inglés *temporal activation regularization*) son dos métodos que reducen el sobreajuste incluyendo una penalización a la función de perdida. En concreto, la regularización AR se encarga de que sean las salidas producidas por LSTM lo más pequeñas posibles, mientras que la regularización TAR se encarga de que la salida de dos secuencias consecutivas de nuestro texto sean lo más pequeña posible."
      ]
    },
    {
      "cell_type": "markdown",
      "metadata": {
        "id": "0oJh5WO6LkbQ"
      },
      "source": [
        "### Entrenando un modelo con Dropout, AR y TAR"
      ]
    },
    {
      "cell_type": "markdown",
      "metadata": {
        "id": "-5l82wHELkbR"
      },
      "source": [
        "Podemos combinar el Dropout con las regularizaciones AR y TAR para entrenar nuestro modelo. Para ello tenemos que añadir una capa de dropout antes de la salida de nuestro LSTM. Además nuestro modelo debe devolver tres cosas: la salida normal de la red, la salida producida por la capa del dropout, y la salida antes de aplicar el dropout. Las dos últimas serán utilizadas por un callback llamado `RNNRegularization` que se usa para aplicar las regularizaciones AR y TAR.\n",
        "\n",
        "Otro truco que se suele utilizar en estas redes se conoce como *weight tying*. En un modelo de lenguaje, el embedding representa una función de palabras en inglés (o en otro idioma) a la entrada del modelo, y la salida representa una función de las salidas de la red a palabras en inglés. Podemos esperar que estas funciones sean la misma, esto se puede llevar a cabo asignando la misma matriz de pesos a ambas capas:\n",
        "\n",
        "    self.h_o.weight = self.i_h.weight\n",
        "\n",
        "Incluimos estos cambios en el nuevo modelo `LMMModel7`:"
      ]
    },
    {
      "cell_type": "code",
      "metadata": {
        "id": "vItch1FaLkbS"
      },
      "source": [
        "class LMModel7(Module):\n",
        "    def __init__(self, vocab_sz, n_hidden, n_layers, p):\n",
        "        self.i_h = nn.Embedding(vocab_sz, n_hidden)\n",
        "        self.rnn = nn.LSTM(n_hidden, n_hidden, n_layers, batch_first=True)\n",
        "        self.drop = nn.Dropout(p)\n",
        "        self.h_o = nn.Linear(n_hidden, vocab_sz)\n",
        "        self.h_o.weight = self.i_h.weight\n",
        "        self.h = [torch.zeros(n_layers, bs, n_hidden) for _ in range(2)]\n",
        "\n",
        "    def forward(self, x):\n",
        "        raw,h = self.rnn(self.i_h(x), self.h)\n",
        "        out = self.drop(raw)\n",
        "        self.h = [h_.detach() for h_ in h]\n",
        "        return self.h_o(out),raw,out\n",
        "\n",
        "    def reset(self):\n",
        "        for h in self.h: h.zero_()"
      ],
      "execution_count": 32,
      "outputs": []
    },
    {
      "cell_type": "markdown",
      "metadata": {
        "id": "GDx7p9WILkbU"
      },
      "source": [
        "Seguidamente creamos nuestro `Learner` usando el callback de `RNNRegularizer` donde `alpha` es un parámetro para la regularización AR, y `beta` se aplica para la regularización TAR. Un `TextLearner` automáticamente añade dichos callbacks por nosotros, así que podemos construir el `Learner` con la siguiente línea:"
      ]
    },
    {
      "cell_type": "code",
      "metadata": {
        "id": "vvOLPonFLkbU"
      },
      "source": [
        "learn = TextLearner(dls, LMModel7(len(vocab), 64, 2, 0.4),\n",
        "                    loss_func=CrossEntropyLossFlat(), metrics=accuracy)"
      ],
      "execution_count": 33,
      "outputs": []
    },
    {
      "cell_type": "markdown",
      "metadata": {
        "id": "SV89N8_ILkbb"
      },
      "source": [
        "Ahora podemos entrenar el modelo añadiendo otra técnica de regularización llamada *weight decay* que añade una penalización a la pérdida para que los pesos sean lo más pequeños posibles."
      ]
    },
    {
      "cell_type": "code",
      "metadata": {
        "id": "rRFllos_Lkbc",
        "outputId": "8036112c-0eda-4f7d-a425-95f742bbc00a",
        "colab": {
          "base_uri": "https://localhost:8080/",
          "height": 519
        }
      },
      "source": [
        "learn.fit_one_cycle(15, 1e-2, wd=0.1)"
      ],
      "execution_count": 34,
      "outputs": [
        {
          "output_type": "display_data",
          "data": {
            "text/plain": [
              "<IPython.core.display.HTML object>"
            ],
            "text/html": [
              "\n",
              "<style>\n",
              "    /* Turns off some styling */\n",
              "    progress {\n",
              "        /* gets rid of default border in Firefox and Opera. */\n",
              "        border: none;\n",
              "        /* Needs to be in here for Safari polyfill so background images work as expected. */\n",
              "        background-size: auto;\n",
              "    }\n",
              "    progress:not([value]), progress:not([value])::-webkit-progress-bar {\n",
              "        background: repeating-linear-gradient(45deg, #7e7e7e, #7e7e7e 10px, #5c5c5c 10px, #5c5c5c 20px);\n",
              "    }\n",
              "    .progress-bar-interrupted, .progress-bar-interrupted::-webkit-progress-bar {\n",
              "        background: #F44336;\n",
              "    }\n",
              "</style>\n"
            ]
          },
          "metadata": {}
        },
        {
          "output_type": "display_data",
          "data": {
            "text/plain": [
              "<IPython.core.display.HTML object>"
            ],
            "text/html": [
              "<table border=\"1\" class=\"dataframe\">\n",
              "  <thead>\n",
              "    <tr style=\"text-align: left;\">\n",
              "      <th>epoch</th>\n",
              "      <th>train_loss</th>\n",
              "      <th>valid_loss</th>\n",
              "      <th>accuracy</th>\n",
              "      <th>time</th>\n",
              "    </tr>\n",
              "  </thead>\n",
              "  <tbody>\n",
              "    <tr>\n",
              "      <td>0</td>\n",
              "      <td>2.580495</td>\n",
              "      <td>1.980204</td>\n",
              "      <td>0.461670</td>\n",
              "      <td>00:02</td>\n",
              "    </tr>\n",
              "    <tr>\n",
              "      <td>1</td>\n",
              "      <td>1.590128</td>\n",
              "      <td>1.269910</td>\n",
              "      <td>0.625570</td>\n",
              "      <td>00:04</td>\n",
              "    </tr>\n",
              "    <tr>\n",
              "      <td>2</td>\n",
              "      <td>0.837856</td>\n",
              "      <td>0.904065</td>\n",
              "      <td>0.787028</td>\n",
              "      <td>00:02</td>\n",
              "    </tr>\n",
              "    <tr>\n",
              "      <td>3</td>\n",
              "      <td>0.416437</td>\n",
              "      <td>0.695597</td>\n",
              "      <td>0.821126</td>\n",
              "      <td>00:02</td>\n",
              "    </tr>\n",
              "    <tr>\n",
              "      <td>4</td>\n",
              "      <td>0.208198</td>\n",
              "      <td>0.715095</td>\n",
              "      <td>0.838786</td>\n",
              "      <td>00:02</td>\n",
              "    </tr>\n",
              "    <tr>\n",
              "      <td>5</td>\n",
              "      <td>0.115923</td>\n",
              "      <td>0.629190</td>\n",
              "      <td>0.843994</td>\n",
              "      <td>00:04</td>\n",
              "    </tr>\n",
              "    <tr>\n",
              "      <td>6</td>\n",
              "      <td>0.072651</td>\n",
              "      <td>0.445617</td>\n",
              "      <td>0.877116</td>\n",
              "      <td>00:03</td>\n",
              "    </tr>\n",
              "    <tr>\n",
              "      <td>7</td>\n",
              "      <td>0.046433</td>\n",
              "      <td>0.455904</td>\n",
              "      <td>0.869385</td>\n",
              "      <td>00:02</td>\n",
              "    </tr>\n",
              "    <tr>\n",
              "      <td>8</td>\n",
              "      <td>0.033052</td>\n",
              "      <td>0.496830</td>\n",
              "      <td>0.867920</td>\n",
              "      <td>00:02</td>\n",
              "    </tr>\n",
              "    <tr>\n",
              "      <td>9</td>\n",
              "      <td>0.026514</td>\n",
              "      <td>0.493915</td>\n",
              "      <td>0.873210</td>\n",
              "      <td>00:03</td>\n",
              "    </tr>\n",
              "    <tr>\n",
              "      <td>10</td>\n",
              "      <td>0.021600</td>\n",
              "      <td>0.488281</td>\n",
              "      <td>0.875000</td>\n",
              "      <td>00:03</td>\n",
              "    </tr>\n",
              "    <tr>\n",
              "      <td>11</td>\n",
              "      <td>0.017478</td>\n",
              "      <td>0.508103</td>\n",
              "      <td>0.869385</td>\n",
              "      <td>00:02</td>\n",
              "    </tr>\n",
              "    <tr>\n",
              "      <td>12</td>\n",
              "      <td>0.014832</td>\n",
              "      <td>0.531356</td>\n",
              "      <td>0.868490</td>\n",
              "      <td>00:02</td>\n",
              "    </tr>\n",
              "    <tr>\n",
              "      <td>13</td>\n",
              "      <td>0.012918</td>\n",
              "      <td>0.519504</td>\n",
              "      <td>0.870280</td>\n",
              "      <td>00:03</td>\n",
              "    </tr>\n",
              "    <tr>\n",
              "      <td>14</td>\n",
              "      <td>0.011758</td>\n",
              "      <td>0.519762</td>\n",
              "      <td>0.870117</td>\n",
              "      <td>00:03</td>\n",
              "    </tr>\n",
              "  </tbody>\n",
              "</table>"
            ]
          },
          "metadata": {}
        }
      ]
    },
    {
      "cell_type": "markdown",
      "metadata": {
        "id": "ZKixxb5LMqvR"
      },
      "source": [
        "Como podemos ver los resultados son bastante mejores a los obtenidos con anterioridad."
      ]
    },
    {
      "cell_type": "markdown",
      "metadata": {
        "id": "YI51AnoYMqvS"
      },
      "source": [
        "### Ejercicio\n",
        "\n",
        "A lo largo de este notebook hemos visto cómo crear 7 modelos que a partir de una secuencia de 3 palabras predicen la siguiente palabra del texto. El ejercicio para esta práctica consite en construir y entrenar esos mismos 7 modelos pero prediciendo una palabra a partir de las tres palabras siguientes que aparecen en la secuencia. Añade a continuación tantas celdas como necesites."
      ]
    },
    {
      "cell_type": "markdown",
      "source": [
        "Primero tenemos que transformar el conjunto de datos:"
      ],
      "metadata": {
        "id": "GCJp2CudIvfu"
      }
    },
    {
      "cell_type": "code",
      "source": [
        "# Cargar los datos\n",
        "path = untar_data(URLs.HUMAN_NUMBERS)\n",
        "lines = L()\n",
        "with open(path/'train.txt') as f: lines += L(*f.readlines())\n",
        "with open(path/'valid.txt') as f: lines += L(*f.readlines())"
      ],
      "metadata": {
        "id": "grvMtmTEJUDt"
      },
      "execution_count": 37,
      "outputs": []
    },
    {
      "cell_type": "code",
      "source": [
        "# Preparar el texto y tokenizar\n",
        "text = ' . '.join([l.strip() for l in lines])\n",
        "tokens = text.split(' ')\n",
        "vocab = L(*tokens).unique()\n",
        "word2idx = {w:i for i,w in enumerate(vocab)}\n",
        "nums = L(word2idx[i] for i in tokens)"
      ],
      "metadata": {
        "id": "53DTaeycJWy-"
      },
      "execution_count": 38,
      "outputs": []
    },
    {
      "cell_type": "code",
      "source": [
        "# Crear secuencias: tres palabras siguientes y el objetivo es la palabra anterior\n",
        "seq_len = 3\n",
        "seqs = L((tensor(nums[i+1:i+1+seq_len]), nums[i]) for i in range(len(nums) - seq_len - 1))"
      ],
      "metadata": {
        "id": "Gtpi8C41JZLM"
      },
      "execution_count": 39,
      "outputs": []
    },
    {
      "cell_type": "code",
      "source": [
        "# Tamaño del batch\n",
        "bs = 64"
      ],
      "metadata": {
        "id": "8cxG9OLsJaqj"
      },
      "execution_count": 40,
      "outputs": []
    },
    {
      "cell_type": "code",
      "source": [
        "# Partición del conjunto de datos\n",
        "cut = int(len(seqs) * 0.8)\n",
        "dls = DataLoaders.from_dsets(seqs[:cut], seqs[cut:], bs=bs, shuffle=False)"
      ],
      "metadata": {
        "id": "D33yGMkFJcMv"
      },
      "execution_count": 41,
      "outputs": []
    },
    {
      "cell_type": "code",
      "source": [
        "# Verificar la estructura de los datos\n",
        "print(dls.one_batch())"
      ],
      "metadata": {
        "id": "lrzzdEhrJdZP",
        "outputId": "e7becb0f-5d46-4baf-b4be-8413b4a06efd",
        "colab": {
          "base_uri": "https://localhost:8080/"
        }
      },
      "execution_count": 42,
      "outputs": [
        {
          "output_type": "stream",
          "name": "stdout",
          "text": [
            "(tensor([[ 1,  2,  1],\n",
            "        [ 2,  1,  3],\n",
            "        [ 1,  3,  1],\n",
            "        [ 3,  1,  4],\n",
            "        [ 1,  4,  1],\n",
            "        [ 4,  1,  5],\n",
            "        [ 1,  5,  1],\n",
            "        [ 5,  1,  6],\n",
            "        [ 1,  6,  1],\n",
            "        [ 6,  1,  7],\n",
            "        [ 1,  7,  1],\n",
            "        [ 7,  1,  8],\n",
            "        [ 1,  8,  1],\n",
            "        [ 8,  1,  9],\n",
            "        [ 1,  9,  1],\n",
            "        [ 9,  1, 10],\n",
            "        [ 1, 10,  1],\n",
            "        [10,  1, 11],\n",
            "        [ 1, 11,  1],\n",
            "        [11,  1, 12],\n",
            "        [ 1, 12,  1],\n",
            "        [12,  1, 13],\n",
            "        [ 1, 13,  1],\n",
            "        [13,  1, 14],\n",
            "        [ 1, 14,  1],\n",
            "        [14,  1, 15],\n",
            "        [ 1, 15,  1],\n",
            "        [15,  1, 16],\n",
            "        [ 1, 16,  1],\n",
            "        [16,  1, 17],\n",
            "        [ 1, 17,  1],\n",
            "        [17,  1, 18],\n",
            "        [ 1, 18,  1],\n",
            "        [18,  1, 19],\n",
            "        [ 1, 19,  1],\n",
            "        [19,  1, 20],\n",
            "        [ 1, 20,  1],\n",
            "        [20,  1, 20],\n",
            "        [ 1, 20,  0],\n",
            "        [20,  0,  1],\n",
            "        [ 0,  1, 20],\n",
            "        [ 1, 20,  2],\n",
            "        [20,  2,  1],\n",
            "        [ 2,  1, 20],\n",
            "        [ 1, 20,  3],\n",
            "        [20,  3,  1],\n",
            "        [ 3,  1, 20],\n",
            "        [ 1, 20,  4],\n",
            "        [20,  4,  1],\n",
            "        [ 4,  1, 20],\n",
            "        [ 1, 20,  5],\n",
            "        [20,  5,  1],\n",
            "        [ 5,  1, 20],\n",
            "        [ 1, 20,  6],\n",
            "        [20,  6,  1],\n",
            "        [ 6,  1, 20],\n",
            "        [ 1, 20,  7],\n",
            "        [20,  7,  1],\n",
            "        [ 7,  1, 20],\n",
            "        [ 1, 20,  8],\n",
            "        [20,  8,  1],\n",
            "        [ 8,  1, 20],\n",
            "        [ 1, 20,  9],\n",
            "        [20,  9,  1]]), tensor([ 0,  1,  2,  1,  3,  1,  4,  1,  5,  1,  6,  1,  7,  1,  8,  1,  9,  1,\n",
            "        10,  1, 11,  1, 12,  1, 13,  1, 14,  1, 15,  1, 16,  1, 17,  1, 18,  1,\n",
            "        19,  1, 20,  1, 20,  0,  1, 20,  2,  1, 20,  3,  1, 20,  4,  1, 20,  5,\n",
            "         1, 20,  6,  1, 20,  7,  1, 20,  8,  1]))\n"
          ]
        }
      ]
    },
    {
      "cell_type": "markdown",
      "source": [
        "###Nuevo Modelo 1"
      ],
      "metadata": {
        "id": "8hkpcyU1HD5I"
      }
    },
    {
      "cell_type": "code",
      "source": [
        "# Primero redefinimos el nuevo modelo\n",
        "class LMModel1(nn.Module):\n",
        "    def __init__(self, vocab_sz, n_hidden):\n",
        "        super(LMModel1, self).__init__()\n",
        "        self.i_h = nn.Embedding(vocab_sz, n_hidden)\n",
        "        self.h_h = nn.Linear(n_hidden, n_hidden)\n",
        "        self.h_o = nn.Linear(n_hidden, vocab_sz)\n",
        "\n",
        "    def forward(self, x):\n",
        "        h = F.relu(self.h_h(self.i_h(x[:,0])))\n",
        "        h = h + self.i_h(x[:,1])\n",
        "        h = F.relu(self.h_h(h))\n",
        "        h = h + self.i_h(x[:,2])\n",
        "        h = F.relu(self.h_h(h))\n",
        "        return self.h_o(h)"
      ],
      "metadata": {
        "id": "Gbs6UCBQHX4W"
      },
      "execution_count": 45,
      "outputs": []
    },
    {
      "cell_type": "code",
      "source": [
        "# Crear el modelo\n",
        "vocab_sz = len(vocab)\n",
        "n_hidden = 64\n",
        "model = LMModel1(vocab_sz, n_hidden)\n",
        "\n",
        "# Crear el Learner\n",
        "learn = Learner(dls, model, loss_func=F.cross_entropy, metrics=accuracy)\n",
        "\n",
        "# Entrenar el modelo\n",
        "learn.fit_one_cycle(4, 1e-3)\n",
        "\n",
        "# Evaluar el modelo en el conjunto de validación\n",
        "n, counts = 0, torch.zeros(len(vocab))\n",
        "for x, y in dls.valid:\n",
        "    n += y.shape[0]\n",
        "    for i in range(len(vocab)): counts[i] += (y == i).long().sum()\n",
        "idx = torch.argmax(counts)\n",
        "idx, vocab[idx.item()], counts[idx].item() / n"
      ],
      "metadata": {
        "id": "xzFX5iURJ-Z-",
        "outputId": "a7e3152c-4b48-437e-e391-c4efd1a8acb4",
        "colab": {
          "base_uri": "https://localhost:8080/",
          "height": 193
        }
      },
      "execution_count": 46,
      "outputs": [
        {
          "output_type": "display_data",
          "data": {
            "text/plain": [
              "<IPython.core.display.HTML object>"
            ],
            "text/html": [
              "\n",
              "<style>\n",
              "    /* Turns off some styling */\n",
              "    progress {\n",
              "        /* gets rid of default border in Firefox and Opera. */\n",
              "        border: none;\n",
              "        /* Needs to be in here for Safari polyfill so background images work as expected. */\n",
              "        background-size: auto;\n",
              "    }\n",
              "    progress:not([value]), progress:not([value])::-webkit-progress-bar {\n",
              "        background: repeating-linear-gradient(45deg, #7e7e7e, #7e7e7e 10px, #5c5c5c 10px, #5c5c5c 20px);\n",
              "    }\n",
              "    .progress-bar-interrupted, .progress-bar-interrupted::-webkit-progress-bar {\n",
              "        background: #F44336;\n",
              "    }\n",
              "</style>\n"
            ]
          },
          "metadata": {}
        },
        {
          "output_type": "display_data",
          "data": {
            "text/plain": [
              "<IPython.core.display.HTML object>"
            ],
            "text/html": [
              "<table border=\"1\" class=\"dataframe\">\n",
              "  <thead>\n",
              "    <tr style=\"text-align: left;\">\n",
              "      <th>epoch</th>\n",
              "      <th>train_loss</th>\n",
              "      <th>valid_loss</th>\n",
              "      <th>accuracy</th>\n",
              "      <th>time</th>\n",
              "    </tr>\n",
              "  </thead>\n",
              "  <tbody>\n",
              "    <tr>\n",
              "      <td>0</td>\n",
              "      <td>1.314125</td>\n",
              "      <td>1.652280</td>\n",
              "      <td>0.446232</td>\n",
              "      <td>00:06</td>\n",
              "    </tr>\n",
              "    <tr>\n",
              "      <td>1</td>\n",
              "      <td>1.253748</td>\n",
              "      <td>1.807321</td>\n",
              "      <td>0.465806</td>\n",
              "      <td>00:06</td>\n",
              "    </tr>\n",
              "    <tr>\n",
              "      <td>2</td>\n",
              "      <td>1.375580</td>\n",
              "      <td>1.586166</td>\n",
              "      <td>0.465726</td>\n",
              "      <td>00:05</td>\n",
              "    </tr>\n",
              "    <tr>\n",
              "      <td>3</td>\n",
              "      <td>1.393000</td>\n",
              "      <td>1.484220</td>\n",
              "      <td>0.465726</td>\n",
              "      <td>00:06</td>\n",
              "    </tr>\n",
              "  </tbody>\n",
              "</table>"
            ]
          },
          "metadata": {}
        },
        {
          "output_type": "execute_result",
          "data": {
            "text/plain": [
              "(tensor(1), '.', 0.15175528964260243)"
            ]
          },
          "metadata": {},
          "execution_count": 46
        }
      ]
    },
    {
      "cell_type": "markdown",
      "source": [
        "La palabra más común es \".\", y usando esta palabra como predicción tendríamos una tasa de acierto del 15%, así que nuestro modelo que obtiene aproximadamente una tasa de acierto del 50% es considerablemente mejor."
      ],
      "metadata": {
        "id": "yBmTrOWzKp9m"
      }
    },
    {
      "cell_type": "markdown",
      "source": [
        "###Nuevo Modelo 2"
      ],
      "metadata": {
        "id": "UBb9NjEfHIfL"
      }
    },
    {
      "cell_type": "code",
      "source": [
        "class LMModel2(nn.Module):\n",
        "    def __init__(self, vocab_sz, n_hidden):\n",
        "        super(LMModel2, self).__init__()\n",
        "        self.i_h = nn.Embedding(vocab_sz, n_hidden)\n",
        "        self.h_h = nn.Linear(n_hidden, n_hidden)\n",
        "        self.h_o = nn.Linear(n_hidden, vocab_sz)\n",
        "\n",
        "    def forward(self, x):\n",
        "        h = 0\n",
        "        for i in range(3):\n",
        "            h = h + self.i_h(x[:, i])\n",
        "            h = F.relu(self.h_h(h))\n",
        "        return self.h_o(h)"
      ],
      "metadata": {
        "id": "zx2KrNPfKuA-"
      },
      "execution_count": 47,
      "outputs": []
    },
    {
      "cell_type": "code",
      "source": [
        "# Crear el modelo\n",
        "vocab_sz = len(vocab)\n",
        "n_hidden = 64\n",
        "model = LMModel2(vocab_sz, n_hidden)\n",
        "\n",
        "# Crear el Learner\n",
        "learn = Learner(dls, model, loss_func=F.cross_entropy, metrics=accuracy)\n",
        "\n",
        "# Entrenar el modelo\n",
        "learn.fit_one_cycle(4, 1e-3)\n",
        "\n",
        "# En este caso no evaluaamos el modelo en el conjunto de validación ya que se obtienen los mismos resultados"
      ],
      "metadata": {
        "id": "d8yEnme-K47-",
        "outputId": "0591ba55-af2c-4b48-eeb4-aadb25207ed3",
        "colab": {
          "base_uri": "https://localhost:8080/",
          "height": 175
        }
      },
      "execution_count": 49,
      "outputs": [
        {
          "output_type": "display_data",
          "data": {
            "text/plain": [
              "<IPython.core.display.HTML object>"
            ],
            "text/html": [
              "\n",
              "<style>\n",
              "    /* Turns off some styling */\n",
              "    progress {\n",
              "        /* gets rid of default border in Firefox and Opera. */\n",
              "        border: none;\n",
              "        /* Needs to be in here for Safari polyfill so background images work as expected. */\n",
              "        background-size: auto;\n",
              "    }\n",
              "    progress:not([value]), progress:not([value])::-webkit-progress-bar {\n",
              "        background: repeating-linear-gradient(45deg, #7e7e7e, #7e7e7e 10px, #5c5c5c 10px, #5c5c5c 20px);\n",
              "    }\n",
              "    .progress-bar-interrupted, .progress-bar-interrupted::-webkit-progress-bar {\n",
              "        background: #F44336;\n",
              "    }\n",
              "</style>\n"
            ]
          },
          "metadata": {}
        },
        {
          "output_type": "display_data",
          "data": {
            "text/plain": [
              "<IPython.core.display.HTML object>"
            ],
            "text/html": [
              "<table border=\"1\" class=\"dataframe\">\n",
              "  <thead>\n",
              "    <tr style=\"text-align: left;\">\n",
              "      <th>epoch</th>\n",
              "      <th>train_loss</th>\n",
              "      <th>valid_loss</th>\n",
              "      <th>accuracy</th>\n",
              "      <th>time</th>\n",
              "    </tr>\n",
              "  </thead>\n",
              "  <tbody>\n",
              "    <tr>\n",
              "      <td>0</td>\n",
              "      <td>1.336676</td>\n",
              "      <td>1.560329</td>\n",
              "      <td>0.466043</td>\n",
              "      <td>00:07</td>\n",
              "    </tr>\n",
              "    <tr>\n",
              "      <td>1</td>\n",
              "      <td>1.248863</td>\n",
              "      <td>1.719338</td>\n",
              "      <td>0.465806</td>\n",
              "      <td>00:05</td>\n",
              "    </tr>\n",
              "    <tr>\n",
              "      <td>2</td>\n",
              "      <td>1.348915</td>\n",
              "      <td>1.655142</td>\n",
              "      <td>0.465806</td>\n",
              "      <td>00:07</td>\n",
              "    </tr>\n",
              "    <tr>\n",
              "      <td>3</td>\n",
              "      <td>1.415503</td>\n",
              "      <td>1.525482</td>\n",
              "      <td>0.465726</td>\n",
              "      <td>00:06</td>\n",
              "    </tr>\n",
              "  </tbody>\n",
              "</table>"
            ]
          },
          "metadata": {}
        }
      ]
    },
    {
      "cell_type": "markdown",
      "source": [
        "###Nuevo Modelo 3"
      ],
      "metadata": {
        "id": "JoQ1ocW9HJu-"
      }
    },
    {
      "cell_type": "code",
      "source": [
        "class LMModel3(nn.Module):\n",
        "    def __init__(self, vocab_sz, n_hidden):\n",
        "        super(LMModel3, self).__init__()\n",
        "        self.i_h = nn.Embedding(vocab_sz, n_hidden)\n",
        "        self.h_h = nn.Linear(n_hidden, n_hidden)\n",
        "        self.h_o = nn.Linear(n_hidden, vocab_sz)\n",
        "        self.h = 0\n",
        "\n",
        "    def forward(self, x):\n",
        "        self.h = 0  # Reiniciar el estado oculto al inicio de cada forward\n",
        "        for i in range(3):\n",
        "            self.h = self.h + self.i_h(x[:, i])\n",
        "            self.h = F.relu(self.h_h(self.h))\n",
        "        out = self.h_o(self.h)\n",
        "        self.h = self.h.detach()  # Detach para evitar acumulación de gradientes\n",
        "        return out\n",
        "\n",
        "    def reset(self): self.h = 0\n"
      ],
      "metadata": {
        "id": "0JJlj0iELLZ2"
      },
      "execution_count": 55,
      "outputs": []
    },
    {
      "cell_type": "markdown",
      "source": [
        "Para usar `LMModel3`, nos tenemos que asegurar que el modelo va a ver las secuencias en un cierto orden. Es decir, el modelo tiene que ver las secuencias en el mismo orden que aparecen en el texto. Para ello tenemos que reorganizar el dataset.\n",
        "\n",
        "En primer lugar dividimos la muestra en `m = len(dset) // bs` grupos (esto es equivalente a partir el dataset completo en grupos de, por ejemplo, 64 piezas iguales (dado que estamos usando `bs=64`). Por lo tanto, `m` es la longitud de cada una de esas piezas. Por ejemplo, si usamos el dataset completo esto sería:"
      ],
      "metadata": {
        "id": "dApaHkFALoCv"
      }
    },
    {
      "cell_type": "code",
      "source": [
        "m = len(seqs)//bs\n",
        "m,bs,len(seqs)"
      ],
      "metadata": {
        "id": "ko7WtEaaLw3U",
        "outputId": "b65194a9-0a5e-42d3-ce04-09ae443b69a9",
        "colab": {
          "base_uri": "https://localhost:8080/"
        }
      },
      "execution_count": 50,
      "outputs": [
        {
          "output_type": "execute_result",
          "data": {
            "text/plain": [
              "(985, 64, 63091)"
            ]
          },
          "metadata": {},
          "execution_count": 50
        }
      ]
    },
    {
      "cell_type": "code",
      "source": [
        "# Función para reorganizar el dataset\n",
        "# y asegurar que las secuencias se presentan en el orden correcto\n",
        "def group_chunks(ds, bs):\n",
        "    m = len(ds) // bs\n",
        "    new_ds = L()\n",
        "    for i in range(m):\n",
        "        new_ds += L(ds[i + m*j] for j in range(bs))\n",
        "    return new_ds"
      ],
      "metadata": {
        "id": "LIctq9JJMVhV"
      },
      "execution_count": 53,
      "outputs": []
    },
    {
      "cell_type": "code",
      "source": [
        "# Preparación del DataLoader\n",
        "cut = int(len(seqs) * 0.8)\n",
        "dls = DataLoaders.from_dsets(\n",
        "    group_chunks(seqs[:cut], bs),\n",
        "    group_chunks(seqs[cut:], bs),\n",
        "    bs=bs, drop_last=True, shuffle=False\n",
        ")"
      ],
      "metadata": {
        "id": "30A26TQQMk2X"
      },
      "execution_count": 54,
      "outputs": []
    },
    {
      "cell_type": "code",
      "source": [
        "from fastai.callback.core import Callback\n",
        "\n",
        "# Para resetear el estado oculto del modelo al inicio de cada época y antes de la validación\n",
        "class ResetStateCallback(Callback):\n",
        "    def before_epoch(self):\n",
        "        self.learn.model.reset()\n",
        "\n",
        "    def before_validate(self):\n",
        "        self.learn.model.reset()"
      ],
      "metadata": {
        "id": "9U_KQYBoM0Se"
      },
      "execution_count": 57,
      "outputs": []
    },
    {
      "cell_type": "code",
      "source": [
        "# Crear el modelo\n",
        "vocab_sz = len(vocab)\n",
        "n_hidden = 64\n",
        "model = LMModel3(vocab_sz, n_hidden)\n",
        "\n",
        "# Crear el Learner con el Callback\n",
        "learn = Learner(dls, model, loss_func=F.cross_entropy, metrics=accuracy, cbs=ModelResetter)\n",
        "\n",
        "# Entrenar el modelo\n",
        "learn.fit_one_cycle(10, 1e-3)"
      ],
      "metadata": {
        "id": "7n2G-SbbMwce",
        "outputId": "9fc4cca3-79be-4bb8-da53-97da7caa7a6e",
        "colab": {
          "base_uri": "https://localhost:8080/",
          "height": 363
        }
      },
      "execution_count": 59,
      "outputs": [
        {
          "output_type": "display_data",
          "data": {
            "text/plain": [
              "<IPython.core.display.HTML object>"
            ],
            "text/html": [
              "\n",
              "<style>\n",
              "    /* Turns off some styling */\n",
              "    progress {\n",
              "        /* gets rid of default border in Firefox and Opera. */\n",
              "        border: none;\n",
              "        /* Needs to be in here for Safari polyfill so background images work as expected. */\n",
              "        background-size: auto;\n",
              "    }\n",
              "    progress:not([value]), progress:not([value])::-webkit-progress-bar {\n",
              "        background: repeating-linear-gradient(45deg, #7e7e7e, #7e7e7e 10px, #5c5c5c 10px, #5c5c5c 20px);\n",
              "    }\n",
              "    .progress-bar-interrupted, .progress-bar-interrupted::-webkit-progress-bar {\n",
              "        background: #F44336;\n",
              "    }\n",
              "</style>\n"
            ]
          },
          "metadata": {}
        },
        {
          "output_type": "display_data",
          "data": {
            "text/plain": [
              "<IPython.core.display.HTML object>"
            ],
            "text/html": [
              "<table border=\"1\" class=\"dataframe\">\n",
              "  <thead>\n",
              "    <tr style=\"text-align: left;\">\n",
              "      <th>epoch</th>\n",
              "      <th>train_loss</th>\n",
              "      <th>valid_loss</th>\n",
              "      <th>accuracy</th>\n",
              "      <th>time</th>\n",
              "    </tr>\n",
              "  </thead>\n",
              "  <tbody>\n",
              "    <tr>\n",
              "      <td>0</td>\n",
              "      <td>1.538500</td>\n",
              "      <td>1.871099</td>\n",
              "      <td>0.463832</td>\n",
              "      <td>00:07</td>\n",
              "    </tr>\n",
              "    <tr>\n",
              "      <td>1</td>\n",
              "      <td>1.439971</td>\n",
              "      <td>2.034496</td>\n",
              "      <td>0.465815</td>\n",
              "      <td>00:06</td>\n",
              "    </tr>\n",
              "    <tr>\n",
              "      <td>2</td>\n",
              "      <td>1.430243</td>\n",
              "      <td>2.260017</td>\n",
              "      <td>0.465815</td>\n",
              "      <td>00:08</td>\n",
              "    </tr>\n",
              "    <tr>\n",
              "      <td>3</td>\n",
              "      <td>1.422337</td>\n",
              "      <td>2.668716</td>\n",
              "      <td>0.465815</td>\n",
              "      <td>00:07</td>\n",
              "    </tr>\n",
              "    <tr>\n",
              "      <td>4</td>\n",
              "      <td>1.426444</td>\n",
              "      <td>2.440093</td>\n",
              "      <td>0.465895</td>\n",
              "      <td>00:07</td>\n",
              "    </tr>\n",
              "    <tr>\n",
              "      <td>5</td>\n",
              "      <td>1.428203</td>\n",
              "      <td>2.421134</td>\n",
              "      <td>0.466053</td>\n",
              "      <td>00:06</td>\n",
              "    </tr>\n",
              "    <tr>\n",
              "      <td>6</td>\n",
              "      <td>1.430258</td>\n",
              "      <td>2.734483</td>\n",
              "      <td>0.465736</td>\n",
              "      <td>00:06</td>\n",
              "    </tr>\n",
              "    <tr>\n",
              "      <td>7</td>\n",
              "      <td>1.429315</td>\n",
              "      <td>2.765207</td>\n",
              "      <td>0.465736</td>\n",
              "      <td>00:06</td>\n",
              "    </tr>\n",
              "    <tr>\n",
              "      <td>8</td>\n",
              "      <td>1.428105</td>\n",
              "      <td>2.667071</td>\n",
              "      <td>0.465657</td>\n",
              "      <td>00:07</td>\n",
              "    </tr>\n",
              "    <tr>\n",
              "      <td>9</td>\n",
              "      <td>1.428309</td>\n",
              "      <td>2.800019</td>\n",
              "      <td>0.465657</td>\n",
              "      <td>00:06</td>\n",
              "    </tr>\n",
              "  </tbody>\n",
              "</table>"
            ]
          },
          "metadata": {}
        }
      ]
    },
    {
      "cell_type": "markdown",
      "source": [
        "###Nuevo Modelo 4"
      ],
      "metadata": {
        "id": "0OaWL2acHJn-"
      }
    },
    {
      "cell_type": "code",
      "source": [
        "class LMModel4(nn.Module):\n",
        "    def __init__(self, vocab_sz, n_hidden):\n",
        "        super(LMModel4, self).__init__()\n",
        "        self.i_h = nn.Embedding(vocab_sz, n_hidden)\n",
        "        self.h_h = nn.Linear(n_hidden, n_hidden)\n",
        "        self.h_o = nn.Linear(n_hidden, vocab_sz)\n",
        "        self.h = 0\n",
        "\n",
        "    def forward(self, x):\n",
        "        self.h = 0  # Reiniciar el estado oculto al inicio de cada forward\n",
        "        outs = []\n",
        "        ls = x.shape[1]  # Longitud de la secuencia de entrada\n",
        "        for i in range(ls):\n",
        "            self.h = self.h + self.i_h(x[:, i])\n",
        "            self.h = F.relu(self.h_h(self.h))\n",
        "            outs.append(self.h_o(self.h))\n",
        "        self.h = self.h.detach()  # Detach para evitar acumulación de gradientes\n",
        "        return torch.stack(outs, dim=1)\n",
        "\n",
        "    def reset(self): self.h = 0"
      ],
      "metadata": {
        "id": "ANLcp_GUOx2I"
      },
      "execution_count": 65,
      "outputs": []
    },
    {
      "cell_type": "code",
      "source": [
        "#Función de pérdida\n",
        "def loss_func(inp, targ):\n",
        "    return F.cross_entropy(inp.view(-1, inp.size(-1)), targ.view(-1))"
      ],
      "metadata": {
        "id": "ZctORP2xO0bn"
      },
      "execution_count": 67,
      "outputs": []
    },
    {
      "cell_type": "code",
      "source": [
        "cut = int(len(seqs) * 0.8)\n",
        "train_ds = seqs[:cut]\n",
        "valid_ds = seqs[cut:]\n",
        "\n",
        "# Ajustar DataLoader para manejar secuencias y objetivos adecuadamente\n",
        "train_dl = DataLoader(train_ds, bs=bs, shuffle=True)\n",
        "valid_dl = DataLoader(valid_ds, bs=bs*3)  # Usar un batch_size mayor para validar\n",
        "\n",
        "dls = DataLoaders(train_dl, valid_dl)\n"
      ],
      "metadata": {
        "id": "Kyc3nTluP1g_"
      },
      "execution_count": 69,
      "outputs": []
    },
    {
      "cell_type": "code",
      "source": [
        "# Crear el modelo\n",
        "vocab_sz = len(vocab)\n",
        "n_hidden = 64\n",
        "model = LMModel4(vocab_sz, n_hidden)\n",
        "\n",
        "learn = Learner(dls, model, loss_func=loss_func, metrics=accuracy, cbs=ResetStateCallback())\n",
        "\n",
        "# Entrenar el modelo\n",
        "learn.fit_one_cycle(15, 3e-3)\n",
        "idx, vocab[idx.item()], counts[idx].item() / n"
      ],
      "metadata": {
        "id": "YNCAs-lmO5K3",
        "outputId": "f7d2b564-0b71-4328-e360-9951450d2728",
        "colab": {
          "base_uri": "https://localhost:8080/",
          "height": 490
        }
      },
      "execution_count": 70,
      "outputs": [
        {
          "output_type": "display_data",
          "data": {
            "text/plain": [
              "<IPython.core.display.HTML object>"
            ],
            "text/html": [
              "\n",
              "<style>\n",
              "    /* Turns off some styling */\n",
              "    progress {\n",
              "        /* gets rid of default border in Firefox and Opera. */\n",
              "        border: none;\n",
              "        /* Needs to be in here for Safari polyfill so background images work as expected. */\n",
              "        background-size: auto;\n",
              "    }\n",
              "    progress:not([value]), progress:not([value])::-webkit-progress-bar {\n",
              "        background: repeating-linear-gradient(45deg, #7e7e7e, #7e7e7e 10px, #5c5c5c 10px, #5c5c5c 20px);\n",
              "    }\n",
              "    .progress-bar-interrupted, .progress-bar-interrupted::-webkit-progress-bar {\n",
              "        background: #F44336;\n",
              "    }\n",
              "</style>\n"
            ]
          },
          "metadata": {}
        },
        {
          "output_type": "display_data",
          "data": {
            "text/plain": [
              "<IPython.core.display.HTML object>"
            ],
            "text/html": [
              "\n",
              "    <div>\n",
              "      <progress value='0' class='' max='15' style='width:300px; height:20px; vertical-align: middle;'></progress>\n",
              "      0.00% [0/15 00:00&lt;?]\n",
              "    </div>\n",
              "    \n",
              "<table border=\"1\" class=\"dataframe\">\n",
              "  <thead>\n",
              "    <tr style=\"text-align: left;\">\n",
              "      <th>epoch</th>\n",
              "      <th>train_loss</th>\n",
              "      <th>valid_loss</th>\n",
              "      <th>accuracy</th>\n",
              "      <th>time</th>\n",
              "    </tr>\n",
              "  </thead>\n",
              "  <tbody>\n",
              "  </tbody>\n",
              "</table><p>\n",
              "\n",
              "    <div>\n",
              "      <progress value='0' class='' max='789' style='width:300px; height:20px; vertical-align: middle;'></progress>\n",
              "      0.00% [0/789 00:00&lt;?]\n",
              "    </div>\n",
              "    "
            ]
          },
          "metadata": {}
        },
        {
          "output_type": "error",
          "ename": "ValueError",
          "evalue": "Expected input batch_size (192) to match target batch_size (64).",
          "traceback": [
            "\u001b[0;31m---------------------------------------------------------------------------\u001b[0m",
            "\u001b[0;31mValueError\u001b[0m                                Traceback (most recent call last)",
            "\u001b[0;32m<ipython-input-70-5f5dbf8a4545>\u001b[0m in \u001b[0;36m<cell line: 9>\u001b[0;34m()\u001b[0m\n\u001b[1;32m      7\u001b[0m \u001b[0;34m\u001b[0m\u001b[0m\n\u001b[1;32m      8\u001b[0m \u001b[0;31m# Entrenar el modelo\u001b[0m\u001b[0;34m\u001b[0m\u001b[0;34m\u001b[0m\u001b[0m\n\u001b[0;32m----> 9\u001b[0;31m \u001b[0mlearn\u001b[0m\u001b[0;34m.\u001b[0m\u001b[0mfit_one_cycle\u001b[0m\u001b[0;34m(\u001b[0m\u001b[0;36m15\u001b[0m\u001b[0;34m,\u001b[0m \u001b[0;36m3e-3\u001b[0m\u001b[0;34m)\u001b[0m\u001b[0;34m\u001b[0m\u001b[0;34m\u001b[0m\u001b[0m\n\u001b[0m\u001b[1;32m     10\u001b[0m \u001b[0midx\u001b[0m\u001b[0;34m,\u001b[0m \u001b[0mvocab\u001b[0m\u001b[0;34m[\u001b[0m\u001b[0midx\u001b[0m\u001b[0;34m.\u001b[0m\u001b[0mitem\u001b[0m\u001b[0;34m(\u001b[0m\u001b[0;34m)\u001b[0m\u001b[0;34m]\u001b[0m\u001b[0;34m,\u001b[0m \u001b[0mcounts\u001b[0m\u001b[0;34m[\u001b[0m\u001b[0midx\u001b[0m\u001b[0;34m]\u001b[0m\u001b[0;34m.\u001b[0m\u001b[0mitem\u001b[0m\u001b[0;34m(\u001b[0m\u001b[0;34m)\u001b[0m \u001b[0;34m/\u001b[0m \u001b[0mn\u001b[0m\u001b[0;34m\u001b[0m\u001b[0;34m\u001b[0m\u001b[0m\n",
            "\u001b[0;32m/usr/local/lib/python3.10/dist-packages/fastai/callback/schedule.py\u001b[0m in \u001b[0;36mfit_one_cycle\u001b[0;34m(self, n_epoch, lr_max, div, div_final, pct_start, wd, moms, cbs, reset_opt, start_epoch)\u001b[0m\n\u001b[1;32m    117\u001b[0m     scheds = {'lr': combined_cos(pct_start, lr_max/div, lr_max, lr_max/div_final),\n\u001b[1;32m    118\u001b[0m               'mom': combined_cos(pct_start, *(self.moms if moms is None else moms))}\n\u001b[0;32m--> 119\u001b[0;31m     \u001b[0mself\u001b[0m\u001b[0;34m.\u001b[0m\u001b[0mfit\u001b[0m\u001b[0;34m(\u001b[0m\u001b[0mn_epoch\u001b[0m\u001b[0;34m,\u001b[0m \u001b[0mcbs\u001b[0m\u001b[0;34m=\u001b[0m\u001b[0mParamScheduler\u001b[0m\u001b[0;34m(\u001b[0m\u001b[0mscheds\u001b[0m\u001b[0;34m)\u001b[0m\u001b[0;34m+\u001b[0m\u001b[0mL\u001b[0m\u001b[0;34m(\u001b[0m\u001b[0mcbs\u001b[0m\u001b[0;34m)\u001b[0m\u001b[0;34m,\u001b[0m \u001b[0mreset_opt\u001b[0m\u001b[0;34m=\u001b[0m\u001b[0mreset_opt\u001b[0m\u001b[0;34m,\u001b[0m \u001b[0mwd\u001b[0m\u001b[0;34m=\u001b[0m\u001b[0mwd\u001b[0m\u001b[0;34m,\u001b[0m \u001b[0mstart_epoch\u001b[0m\u001b[0;34m=\u001b[0m\u001b[0mstart_epoch\u001b[0m\u001b[0;34m)\u001b[0m\u001b[0;34m\u001b[0m\u001b[0;34m\u001b[0m\u001b[0m\n\u001b[0m\u001b[1;32m    120\u001b[0m \u001b[0;34m\u001b[0m\u001b[0m\n\u001b[1;32m    121\u001b[0m \u001b[0;31m# %% ../../nbs/14_callback.schedule.ipynb 50\u001b[0m\u001b[0;34m\u001b[0m\u001b[0;34m\u001b[0m\u001b[0m\n",
            "\u001b[0;32m/usr/local/lib/python3.10/dist-packages/fastai/learner.py\u001b[0m in \u001b[0;36mfit\u001b[0;34m(self, n_epoch, lr, wd, cbs, reset_opt, start_epoch)\u001b[0m\n\u001b[1;32m    262\u001b[0m             \u001b[0mself\u001b[0m\u001b[0;34m.\u001b[0m\u001b[0mopt\u001b[0m\u001b[0;34m.\u001b[0m\u001b[0mset_hypers\u001b[0m\u001b[0;34m(\u001b[0m\u001b[0mlr\u001b[0m\u001b[0;34m=\u001b[0m\u001b[0mself\u001b[0m\u001b[0;34m.\u001b[0m\u001b[0mlr\u001b[0m \u001b[0;32mif\u001b[0m \u001b[0mlr\u001b[0m \u001b[0;32mis\u001b[0m \u001b[0;32mNone\u001b[0m \u001b[0;32melse\u001b[0m \u001b[0mlr\u001b[0m\u001b[0;34m)\u001b[0m\u001b[0;34m\u001b[0m\u001b[0;34m\u001b[0m\u001b[0m\n\u001b[1;32m    263\u001b[0m             \u001b[0mself\u001b[0m\u001b[0;34m.\u001b[0m\u001b[0mn_epoch\u001b[0m \u001b[0;34m=\u001b[0m \u001b[0mn_epoch\u001b[0m\u001b[0;34m\u001b[0m\u001b[0;34m\u001b[0m\u001b[0m\n\u001b[0;32m--> 264\u001b[0;31m             \u001b[0mself\u001b[0m\u001b[0;34m.\u001b[0m\u001b[0m_with_events\u001b[0m\u001b[0;34m(\u001b[0m\u001b[0mself\u001b[0m\u001b[0;34m.\u001b[0m\u001b[0m_do_fit\u001b[0m\u001b[0;34m,\u001b[0m \u001b[0;34m'fit'\u001b[0m\u001b[0;34m,\u001b[0m \u001b[0mCancelFitException\u001b[0m\u001b[0;34m,\u001b[0m \u001b[0mself\u001b[0m\u001b[0;34m.\u001b[0m\u001b[0m_end_cleanup\u001b[0m\u001b[0;34m)\u001b[0m\u001b[0;34m\u001b[0m\u001b[0;34m\u001b[0m\u001b[0m\n\u001b[0m\u001b[1;32m    265\u001b[0m \u001b[0;34m\u001b[0m\u001b[0m\n\u001b[1;32m    266\u001b[0m     \u001b[0;32mdef\u001b[0m \u001b[0m_end_cleanup\u001b[0m\u001b[0;34m(\u001b[0m\u001b[0mself\u001b[0m\u001b[0;34m)\u001b[0m\u001b[0;34m:\u001b[0m \u001b[0mself\u001b[0m\u001b[0;34m.\u001b[0m\u001b[0mdl\u001b[0m\u001b[0;34m,\u001b[0m\u001b[0mself\u001b[0m\u001b[0;34m.\u001b[0m\u001b[0mxb\u001b[0m\u001b[0;34m,\u001b[0m\u001b[0mself\u001b[0m\u001b[0;34m.\u001b[0m\u001b[0myb\u001b[0m\u001b[0;34m,\u001b[0m\u001b[0mself\u001b[0m\u001b[0;34m.\u001b[0m\u001b[0mpred\u001b[0m\u001b[0;34m,\u001b[0m\u001b[0mself\u001b[0m\u001b[0;34m.\u001b[0m\u001b[0mloss\u001b[0m \u001b[0;34m=\u001b[0m \u001b[0;32mNone\u001b[0m\u001b[0;34m,\u001b[0m\u001b[0;34m(\u001b[0m\u001b[0;32mNone\u001b[0m\u001b[0;34m,\u001b[0m\u001b[0;34m)\u001b[0m\u001b[0;34m,\u001b[0m\u001b[0;34m(\u001b[0m\u001b[0;32mNone\u001b[0m\u001b[0;34m,\u001b[0m\u001b[0;34m)\u001b[0m\u001b[0;34m,\u001b[0m\u001b[0;32mNone\u001b[0m\u001b[0;34m,\u001b[0m\u001b[0;32mNone\u001b[0m\u001b[0;34m\u001b[0m\u001b[0;34m\u001b[0m\u001b[0m\n",
            "\u001b[0;32m/usr/local/lib/python3.10/dist-packages/fastai/learner.py\u001b[0m in \u001b[0;36m_with_events\u001b[0;34m(self, f, event_type, ex, final)\u001b[0m\n\u001b[1;32m    197\u001b[0m \u001b[0;34m\u001b[0m\u001b[0m\n\u001b[1;32m    198\u001b[0m     \u001b[0;32mdef\u001b[0m \u001b[0m_with_events\u001b[0m\u001b[0;34m(\u001b[0m\u001b[0mself\u001b[0m\u001b[0;34m,\u001b[0m \u001b[0mf\u001b[0m\u001b[0;34m,\u001b[0m \u001b[0mevent_type\u001b[0m\u001b[0;34m,\u001b[0m \u001b[0mex\u001b[0m\u001b[0;34m,\u001b[0m \u001b[0mfinal\u001b[0m\u001b[0;34m=\u001b[0m\u001b[0mnoop\u001b[0m\u001b[0;34m)\u001b[0m\u001b[0;34m:\u001b[0m\u001b[0;34m\u001b[0m\u001b[0;34m\u001b[0m\u001b[0m\n\u001b[0;32m--> 199\u001b[0;31m         \u001b[0;32mtry\u001b[0m\u001b[0;34m:\u001b[0m \u001b[0mself\u001b[0m\u001b[0;34m(\u001b[0m\u001b[0;34mf'before_{event_type}'\u001b[0m\u001b[0;34m)\u001b[0m\u001b[0;34m;\u001b[0m  \u001b[0mf\u001b[0m\u001b[0;34m(\u001b[0m\u001b[0;34m)\u001b[0m\u001b[0;34m\u001b[0m\u001b[0;34m\u001b[0m\u001b[0m\n\u001b[0m\u001b[1;32m    200\u001b[0m         \u001b[0;32mexcept\u001b[0m \u001b[0mex\u001b[0m\u001b[0;34m:\u001b[0m \u001b[0mself\u001b[0m\u001b[0;34m(\u001b[0m\u001b[0;34mf'after_cancel_{event_type}'\u001b[0m\u001b[0;34m)\u001b[0m\u001b[0;34m\u001b[0m\u001b[0;34m\u001b[0m\u001b[0m\n\u001b[1;32m    201\u001b[0m         \u001b[0mself\u001b[0m\u001b[0;34m(\u001b[0m\u001b[0;34mf'after_{event_type}'\u001b[0m\u001b[0;34m)\u001b[0m\u001b[0;34m;\u001b[0m  \u001b[0mfinal\u001b[0m\u001b[0;34m(\u001b[0m\u001b[0;34m)\u001b[0m\u001b[0;34m\u001b[0m\u001b[0;34m\u001b[0m\u001b[0m\n",
            "\u001b[0;32m/usr/local/lib/python3.10/dist-packages/fastai/learner.py\u001b[0m in \u001b[0;36m_do_fit\u001b[0;34m(self)\u001b[0m\n\u001b[1;32m    251\u001b[0m         \u001b[0;32mfor\u001b[0m \u001b[0mepoch\u001b[0m \u001b[0;32min\u001b[0m \u001b[0mrange\u001b[0m\u001b[0;34m(\u001b[0m\u001b[0mself\u001b[0m\u001b[0;34m.\u001b[0m\u001b[0mn_epoch\u001b[0m\u001b[0;34m)\u001b[0m\u001b[0;34m:\u001b[0m\u001b[0;34m\u001b[0m\u001b[0;34m\u001b[0m\u001b[0m\n\u001b[1;32m    252\u001b[0m             \u001b[0mself\u001b[0m\u001b[0;34m.\u001b[0m\u001b[0mepoch\u001b[0m\u001b[0;34m=\u001b[0m\u001b[0mepoch\u001b[0m\u001b[0;34m\u001b[0m\u001b[0;34m\u001b[0m\u001b[0m\n\u001b[0;32m--> 253\u001b[0;31m             \u001b[0mself\u001b[0m\u001b[0;34m.\u001b[0m\u001b[0m_with_events\u001b[0m\u001b[0;34m(\u001b[0m\u001b[0mself\u001b[0m\u001b[0;34m.\u001b[0m\u001b[0m_do_epoch\u001b[0m\u001b[0;34m,\u001b[0m \u001b[0;34m'epoch'\u001b[0m\u001b[0;34m,\u001b[0m \u001b[0mCancelEpochException\u001b[0m\u001b[0;34m)\u001b[0m\u001b[0;34m\u001b[0m\u001b[0;34m\u001b[0m\u001b[0m\n\u001b[0m\u001b[1;32m    254\u001b[0m \u001b[0;34m\u001b[0m\u001b[0m\n\u001b[1;32m    255\u001b[0m     \u001b[0;32mdef\u001b[0m \u001b[0mfit\u001b[0m\u001b[0;34m(\u001b[0m\u001b[0mself\u001b[0m\u001b[0;34m,\u001b[0m \u001b[0mn_epoch\u001b[0m\u001b[0;34m,\u001b[0m \u001b[0mlr\u001b[0m\u001b[0;34m=\u001b[0m\u001b[0;32mNone\u001b[0m\u001b[0;34m,\u001b[0m \u001b[0mwd\u001b[0m\u001b[0;34m=\u001b[0m\u001b[0;32mNone\u001b[0m\u001b[0;34m,\u001b[0m \u001b[0mcbs\u001b[0m\u001b[0;34m=\u001b[0m\u001b[0;32mNone\u001b[0m\u001b[0;34m,\u001b[0m \u001b[0mreset_opt\u001b[0m\u001b[0;34m=\u001b[0m\u001b[0;32mFalse\u001b[0m\u001b[0;34m,\u001b[0m \u001b[0mstart_epoch\u001b[0m\u001b[0;34m=\u001b[0m\u001b[0;36m0\u001b[0m\u001b[0;34m)\u001b[0m\u001b[0;34m:\u001b[0m\u001b[0;34m\u001b[0m\u001b[0;34m\u001b[0m\u001b[0m\n",
            "\u001b[0;32m/usr/local/lib/python3.10/dist-packages/fastai/learner.py\u001b[0m in \u001b[0;36m_with_events\u001b[0;34m(self, f, event_type, ex, final)\u001b[0m\n\u001b[1;32m    197\u001b[0m \u001b[0;34m\u001b[0m\u001b[0m\n\u001b[1;32m    198\u001b[0m     \u001b[0;32mdef\u001b[0m \u001b[0m_with_events\u001b[0m\u001b[0;34m(\u001b[0m\u001b[0mself\u001b[0m\u001b[0;34m,\u001b[0m \u001b[0mf\u001b[0m\u001b[0;34m,\u001b[0m \u001b[0mevent_type\u001b[0m\u001b[0;34m,\u001b[0m \u001b[0mex\u001b[0m\u001b[0;34m,\u001b[0m \u001b[0mfinal\u001b[0m\u001b[0;34m=\u001b[0m\u001b[0mnoop\u001b[0m\u001b[0;34m)\u001b[0m\u001b[0;34m:\u001b[0m\u001b[0;34m\u001b[0m\u001b[0;34m\u001b[0m\u001b[0m\n\u001b[0;32m--> 199\u001b[0;31m         \u001b[0;32mtry\u001b[0m\u001b[0;34m:\u001b[0m \u001b[0mself\u001b[0m\u001b[0;34m(\u001b[0m\u001b[0;34mf'before_{event_type}'\u001b[0m\u001b[0;34m)\u001b[0m\u001b[0;34m;\u001b[0m  \u001b[0mf\u001b[0m\u001b[0;34m(\u001b[0m\u001b[0;34m)\u001b[0m\u001b[0;34m\u001b[0m\u001b[0;34m\u001b[0m\u001b[0m\n\u001b[0m\u001b[1;32m    200\u001b[0m         \u001b[0;32mexcept\u001b[0m \u001b[0mex\u001b[0m\u001b[0;34m:\u001b[0m \u001b[0mself\u001b[0m\u001b[0;34m(\u001b[0m\u001b[0;34mf'after_cancel_{event_type}'\u001b[0m\u001b[0;34m)\u001b[0m\u001b[0;34m\u001b[0m\u001b[0;34m\u001b[0m\u001b[0m\n\u001b[1;32m    201\u001b[0m         \u001b[0mself\u001b[0m\u001b[0;34m(\u001b[0m\u001b[0;34mf'after_{event_type}'\u001b[0m\u001b[0;34m)\u001b[0m\u001b[0;34m;\u001b[0m  \u001b[0mfinal\u001b[0m\u001b[0;34m(\u001b[0m\u001b[0;34m)\u001b[0m\u001b[0;34m\u001b[0m\u001b[0;34m\u001b[0m\u001b[0m\n",
            "\u001b[0;32m/usr/local/lib/python3.10/dist-packages/fastai/learner.py\u001b[0m in \u001b[0;36m_do_epoch\u001b[0;34m(self)\u001b[0m\n\u001b[1;32m    245\u001b[0m \u001b[0;34m\u001b[0m\u001b[0m\n\u001b[1;32m    246\u001b[0m     \u001b[0;32mdef\u001b[0m \u001b[0m_do_epoch\u001b[0m\u001b[0;34m(\u001b[0m\u001b[0mself\u001b[0m\u001b[0;34m)\u001b[0m\u001b[0;34m:\u001b[0m\u001b[0;34m\u001b[0m\u001b[0;34m\u001b[0m\u001b[0m\n\u001b[0;32m--> 247\u001b[0;31m         \u001b[0mself\u001b[0m\u001b[0;34m.\u001b[0m\u001b[0m_do_epoch_train\u001b[0m\u001b[0;34m(\u001b[0m\u001b[0;34m)\u001b[0m\u001b[0;34m\u001b[0m\u001b[0;34m\u001b[0m\u001b[0m\n\u001b[0m\u001b[1;32m    248\u001b[0m         \u001b[0mself\u001b[0m\u001b[0;34m.\u001b[0m\u001b[0m_do_epoch_validate\u001b[0m\u001b[0;34m(\u001b[0m\u001b[0;34m)\u001b[0m\u001b[0;34m\u001b[0m\u001b[0;34m\u001b[0m\u001b[0m\n\u001b[1;32m    249\u001b[0m \u001b[0;34m\u001b[0m\u001b[0m\n",
            "\u001b[0;32m/usr/local/lib/python3.10/dist-packages/fastai/learner.py\u001b[0m in \u001b[0;36m_do_epoch_train\u001b[0;34m(self)\u001b[0m\n\u001b[1;32m    237\u001b[0m     \u001b[0;32mdef\u001b[0m \u001b[0m_do_epoch_train\u001b[0m\u001b[0;34m(\u001b[0m\u001b[0mself\u001b[0m\u001b[0;34m)\u001b[0m\u001b[0;34m:\u001b[0m\u001b[0;34m\u001b[0m\u001b[0;34m\u001b[0m\u001b[0m\n\u001b[1;32m    238\u001b[0m         \u001b[0mself\u001b[0m\u001b[0;34m.\u001b[0m\u001b[0mdl\u001b[0m \u001b[0;34m=\u001b[0m \u001b[0mself\u001b[0m\u001b[0;34m.\u001b[0m\u001b[0mdls\u001b[0m\u001b[0;34m.\u001b[0m\u001b[0mtrain\u001b[0m\u001b[0;34m\u001b[0m\u001b[0;34m\u001b[0m\u001b[0m\n\u001b[0;32m--> 239\u001b[0;31m         \u001b[0mself\u001b[0m\u001b[0;34m.\u001b[0m\u001b[0m_with_events\u001b[0m\u001b[0;34m(\u001b[0m\u001b[0mself\u001b[0m\u001b[0;34m.\u001b[0m\u001b[0mall_batches\u001b[0m\u001b[0;34m,\u001b[0m \u001b[0;34m'train'\u001b[0m\u001b[0;34m,\u001b[0m \u001b[0mCancelTrainException\u001b[0m\u001b[0;34m)\u001b[0m\u001b[0;34m\u001b[0m\u001b[0;34m\u001b[0m\u001b[0m\n\u001b[0m\u001b[1;32m    240\u001b[0m \u001b[0;34m\u001b[0m\u001b[0m\n\u001b[1;32m    241\u001b[0m     \u001b[0;32mdef\u001b[0m \u001b[0m_do_epoch_validate\u001b[0m\u001b[0;34m(\u001b[0m\u001b[0mself\u001b[0m\u001b[0;34m,\u001b[0m \u001b[0mds_idx\u001b[0m\u001b[0;34m=\u001b[0m\u001b[0;36m1\u001b[0m\u001b[0;34m,\u001b[0m \u001b[0mdl\u001b[0m\u001b[0;34m=\u001b[0m\u001b[0;32mNone\u001b[0m\u001b[0;34m)\u001b[0m\u001b[0;34m:\u001b[0m\u001b[0;34m\u001b[0m\u001b[0;34m\u001b[0m\u001b[0m\n",
            "\u001b[0;32m/usr/local/lib/python3.10/dist-packages/fastai/learner.py\u001b[0m in \u001b[0;36m_with_events\u001b[0;34m(self, f, event_type, ex, final)\u001b[0m\n\u001b[1;32m    197\u001b[0m \u001b[0;34m\u001b[0m\u001b[0m\n\u001b[1;32m    198\u001b[0m     \u001b[0;32mdef\u001b[0m \u001b[0m_with_events\u001b[0m\u001b[0;34m(\u001b[0m\u001b[0mself\u001b[0m\u001b[0;34m,\u001b[0m \u001b[0mf\u001b[0m\u001b[0;34m,\u001b[0m \u001b[0mevent_type\u001b[0m\u001b[0;34m,\u001b[0m \u001b[0mex\u001b[0m\u001b[0;34m,\u001b[0m \u001b[0mfinal\u001b[0m\u001b[0;34m=\u001b[0m\u001b[0mnoop\u001b[0m\u001b[0;34m)\u001b[0m\u001b[0;34m:\u001b[0m\u001b[0;34m\u001b[0m\u001b[0;34m\u001b[0m\u001b[0m\n\u001b[0;32m--> 199\u001b[0;31m         \u001b[0;32mtry\u001b[0m\u001b[0;34m:\u001b[0m \u001b[0mself\u001b[0m\u001b[0;34m(\u001b[0m\u001b[0;34mf'before_{event_type}'\u001b[0m\u001b[0;34m)\u001b[0m\u001b[0;34m;\u001b[0m  \u001b[0mf\u001b[0m\u001b[0;34m(\u001b[0m\u001b[0;34m)\u001b[0m\u001b[0;34m\u001b[0m\u001b[0;34m\u001b[0m\u001b[0m\n\u001b[0m\u001b[1;32m    200\u001b[0m         \u001b[0;32mexcept\u001b[0m \u001b[0mex\u001b[0m\u001b[0;34m:\u001b[0m \u001b[0mself\u001b[0m\u001b[0;34m(\u001b[0m\u001b[0;34mf'after_cancel_{event_type}'\u001b[0m\u001b[0;34m)\u001b[0m\u001b[0;34m\u001b[0m\u001b[0;34m\u001b[0m\u001b[0m\n\u001b[1;32m    201\u001b[0m         \u001b[0mself\u001b[0m\u001b[0;34m(\u001b[0m\u001b[0;34mf'after_{event_type}'\u001b[0m\u001b[0;34m)\u001b[0m\u001b[0;34m;\u001b[0m  \u001b[0mfinal\u001b[0m\u001b[0;34m(\u001b[0m\u001b[0;34m)\u001b[0m\u001b[0;34m\u001b[0m\u001b[0;34m\u001b[0m\u001b[0m\n",
            "\u001b[0;32m/usr/local/lib/python3.10/dist-packages/fastai/learner.py\u001b[0m in \u001b[0;36mall_batches\u001b[0;34m(self)\u001b[0m\n\u001b[1;32m    203\u001b[0m     \u001b[0;32mdef\u001b[0m \u001b[0mall_batches\u001b[0m\u001b[0;34m(\u001b[0m\u001b[0mself\u001b[0m\u001b[0;34m)\u001b[0m\u001b[0;34m:\u001b[0m\u001b[0;34m\u001b[0m\u001b[0;34m\u001b[0m\u001b[0m\n\u001b[1;32m    204\u001b[0m         \u001b[0mself\u001b[0m\u001b[0;34m.\u001b[0m\u001b[0mn_iter\u001b[0m \u001b[0;34m=\u001b[0m \u001b[0mlen\u001b[0m\u001b[0;34m(\u001b[0m\u001b[0mself\u001b[0m\u001b[0;34m.\u001b[0m\u001b[0mdl\u001b[0m\u001b[0;34m)\u001b[0m\u001b[0;34m\u001b[0m\u001b[0;34m\u001b[0m\u001b[0m\n\u001b[0;32m--> 205\u001b[0;31m         \u001b[0;32mfor\u001b[0m \u001b[0mo\u001b[0m \u001b[0;32min\u001b[0m \u001b[0menumerate\u001b[0m\u001b[0;34m(\u001b[0m\u001b[0mself\u001b[0m\u001b[0;34m.\u001b[0m\u001b[0mdl\u001b[0m\u001b[0;34m)\u001b[0m\u001b[0;34m:\u001b[0m \u001b[0mself\u001b[0m\u001b[0;34m.\u001b[0m\u001b[0mone_batch\u001b[0m\u001b[0;34m(\u001b[0m\u001b[0;34m*\u001b[0m\u001b[0mo\u001b[0m\u001b[0;34m)\u001b[0m\u001b[0;34m\u001b[0m\u001b[0;34m\u001b[0m\u001b[0m\n\u001b[0m\u001b[1;32m    206\u001b[0m \u001b[0;34m\u001b[0m\u001b[0m\n\u001b[1;32m    207\u001b[0m     \u001b[0;32mdef\u001b[0m \u001b[0m_backward\u001b[0m\u001b[0;34m(\u001b[0m\u001b[0mself\u001b[0m\u001b[0;34m)\u001b[0m\u001b[0;34m:\u001b[0m \u001b[0mself\u001b[0m\u001b[0;34m.\u001b[0m\u001b[0mloss_grad\u001b[0m\u001b[0;34m.\u001b[0m\u001b[0mbackward\u001b[0m\u001b[0;34m(\u001b[0m\u001b[0;34m)\u001b[0m\u001b[0;34m\u001b[0m\u001b[0;34m\u001b[0m\u001b[0m\n",
            "\u001b[0;32m/usr/local/lib/python3.10/dist-packages/fastai/learner.py\u001b[0m in \u001b[0;36mone_batch\u001b[0;34m(self, i, b)\u001b[0m\n\u001b[1;32m    233\u001b[0m         \u001b[0mb\u001b[0m \u001b[0;34m=\u001b[0m \u001b[0mself\u001b[0m\u001b[0;34m.\u001b[0m\u001b[0m_set_device\u001b[0m\u001b[0;34m(\u001b[0m\u001b[0mb\u001b[0m\u001b[0;34m)\u001b[0m\u001b[0;34m\u001b[0m\u001b[0;34m\u001b[0m\u001b[0m\n\u001b[1;32m    234\u001b[0m         \u001b[0mself\u001b[0m\u001b[0;34m.\u001b[0m\u001b[0m_split\u001b[0m\u001b[0;34m(\u001b[0m\u001b[0mb\u001b[0m\u001b[0;34m)\u001b[0m\u001b[0;34m\u001b[0m\u001b[0;34m\u001b[0m\u001b[0m\n\u001b[0;32m--> 235\u001b[0;31m         \u001b[0mself\u001b[0m\u001b[0;34m.\u001b[0m\u001b[0m_with_events\u001b[0m\u001b[0;34m(\u001b[0m\u001b[0mself\u001b[0m\u001b[0;34m.\u001b[0m\u001b[0m_do_one_batch\u001b[0m\u001b[0;34m,\u001b[0m \u001b[0;34m'batch'\u001b[0m\u001b[0;34m,\u001b[0m \u001b[0mCancelBatchException\u001b[0m\u001b[0;34m)\u001b[0m\u001b[0;34m\u001b[0m\u001b[0;34m\u001b[0m\u001b[0m\n\u001b[0m\u001b[1;32m    236\u001b[0m \u001b[0;34m\u001b[0m\u001b[0m\n\u001b[1;32m    237\u001b[0m     \u001b[0;32mdef\u001b[0m \u001b[0m_do_epoch_train\u001b[0m\u001b[0;34m(\u001b[0m\u001b[0mself\u001b[0m\u001b[0;34m)\u001b[0m\u001b[0;34m:\u001b[0m\u001b[0;34m\u001b[0m\u001b[0;34m\u001b[0m\u001b[0m\n",
            "\u001b[0;32m/usr/local/lib/python3.10/dist-packages/fastai/learner.py\u001b[0m in \u001b[0;36m_with_events\u001b[0;34m(self, f, event_type, ex, final)\u001b[0m\n\u001b[1;32m    197\u001b[0m \u001b[0;34m\u001b[0m\u001b[0m\n\u001b[1;32m    198\u001b[0m     \u001b[0;32mdef\u001b[0m \u001b[0m_with_events\u001b[0m\u001b[0;34m(\u001b[0m\u001b[0mself\u001b[0m\u001b[0;34m,\u001b[0m \u001b[0mf\u001b[0m\u001b[0;34m,\u001b[0m \u001b[0mevent_type\u001b[0m\u001b[0;34m,\u001b[0m \u001b[0mex\u001b[0m\u001b[0;34m,\u001b[0m \u001b[0mfinal\u001b[0m\u001b[0;34m=\u001b[0m\u001b[0mnoop\u001b[0m\u001b[0;34m)\u001b[0m\u001b[0;34m:\u001b[0m\u001b[0;34m\u001b[0m\u001b[0;34m\u001b[0m\u001b[0m\n\u001b[0;32m--> 199\u001b[0;31m         \u001b[0;32mtry\u001b[0m\u001b[0;34m:\u001b[0m \u001b[0mself\u001b[0m\u001b[0;34m(\u001b[0m\u001b[0;34mf'before_{event_type}'\u001b[0m\u001b[0;34m)\u001b[0m\u001b[0;34m;\u001b[0m  \u001b[0mf\u001b[0m\u001b[0;34m(\u001b[0m\u001b[0;34m)\u001b[0m\u001b[0;34m\u001b[0m\u001b[0;34m\u001b[0m\u001b[0m\n\u001b[0m\u001b[1;32m    200\u001b[0m         \u001b[0;32mexcept\u001b[0m \u001b[0mex\u001b[0m\u001b[0;34m:\u001b[0m \u001b[0mself\u001b[0m\u001b[0;34m(\u001b[0m\u001b[0;34mf'after_cancel_{event_type}'\u001b[0m\u001b[0;34m)\u001b[0m\u001b[0;34m\u001b[0m\u001b[0;34m\u001b[0m\u001b[0m\n\u001b[1;32m    201\u001b[0m         \u001b[0mself\u001b[0m\u001b[0;34m(\u001b[0m\u001b[0;34mf'after_{event_type}'\u001b[0m\u001b[0;34m)\u001b[0m\u001b[0;34m;\u001b[0m  \u001b[0mfinal\u001b[0m\u001b[0;34m(\u001b[0m\u001b[0;34m)\u001b[0m\u001b[0;34m\u001b[0m\u001b[0;34m\u001b[0m\u001b[0m\n",
            "\u001b[0;32m/usr/local/lib/python3.10/dist-packages/fastai/learner.py\u001b[0m in \u001b[0;36m_do_one_batch\u001b[0;34m(self)\u001b[0m\n\u001b[1;32m    217\u001b[0m         \u001b[0mself\u001b[0m\u001b[0;34m(\u001b[0m\u001b[0;34m'after_pred'\u001b[0m\u001b[0;34m)\u001b[0m\u001b[0;34m\u001b[0m\u001b[0;34m\u001b[0m\u001b[0m\n\u001b[1;32m    218\u001b[0m         \u001b[0;32mif\u001b[0m \u001b[0mlen\u001b[0m\u001b[0;34m(\u001b[0m\u001b[0mself\u001b[0m\u001b[0;34m.\u001b[0m\u001b[0myb\u001b[0m\u001b[0;34m)\u001b[0m\u001b[0;34m:\u001b[0m\u001b[0;34m\u001b[0m\u001b[0;34m\u001b[0m\u001b[0m\n\u001b[0;32m--> 219\u001b[0;31m             \u001b[0mself\u001b[0m\u001b[0;34m.\u001b[0m\u001b[0mloss_grad\u001b[0m \u001b[0;34m=\u001b[0m \u001b[0mself\u001b[0m\u001b[0;34m.\u001b[0m\u001b[0mloss_func\u001b[0m\u001b[0;34m(\u001b[0m\u001b[0mself\u001b[0m\u001b[0;34m.\u001b[0m\u001b[0mpred\u001b[0m\u001b[0;34m,\u001b[0m \u001b[0;34m*\u001b[0m\u001b[0mself\u001b[0m\u001b[0;34m.\u001b[0m\u001b[0myb\u001b[0m\u001b[0;34m)\u001b[0m\u001b[0;34m\u001b[0m\u001b[0;34m\u001b[0m\u001b[0m\n\u001b[0m\u001b[1;32m    220\u001b[0m             \u001b[0mself\u001b[0m\u001b[0;34m.\u001b[0m\u001b[0mloss\u001b[0m \u001b[0;34m=\u001b[0m \u001b[0mself\u001b[0m\u001b[0;34m.\u001b[0m\u001b[0mloss_grad\u001b[0m\u001b[0;34m.\u001b[0m\u001b[0mclone\u001b[0m\u001b[0;34m(\u001b[0m\u001b[0;34m)\u001b[0m\u001b[0;34m\u001b[0m\u001b[0;34m\u001b[0m\u001b[0m\n\u001b[1;32m    221\u001b[0m         \u001b[0mself\u001b[0m\u001b[0;34m(\u001b[0m\u001b[0;34m'after_loss'\u001b[0m\u001b[0;34m)\u001b[0m\u001b[0;34m\u001b[0m\u001b[0;34m\u001b[0m\u001b[0m\n",
            "\u001b[0;32m<ipython-input-67-d721b53fcc77>\u001b[0m in \u001b[0;36mloss_func\u001b[0;34m(inp, targ)\u001b[0m\n\u001b[1;32m      1\u001b[0m \u001b[0;31m#Función de pérdida\u001b[0m\u001b[0;34m\u001b[0m\u001b[0;34m\u001b[0m\u001b[0m\n\u001b[1;32m      2\u001b[0m \u001b[0;32mdef\u001b[0m \u001b[0mloss_func\u001b[0m\u001b[0;34m(\u001b[0m\u001b[0minp\u001b[0m\u001b[0;34m,\u001b[0m \u001b[0mtarg\u001b[0m\u001b[0;34m)\u001b[0m\u001b[0;34m:\u001b[0m\u001b[0;34m\u001b[0m\u001b[0;34m\u001b[0m\u001b[0m\n\u001b[0;32m----> 3\u001b[0;31m     \u001b[0;32mreturn\u001b[0m \u001b[0mF\u001b[0m\u001b[0;34m.\u001b[0m\u001b[0mcross_entropy\u001b[0m\u001b[0;34m(\u001b[0m\u001b[0minp\u001b[0m\u001b[0;34m.\u001b[0m\u001b[0mview\u001b[0m\u001b[0;34m(\u001b[0m\u001b[0;34m-\u001b[0m\u001b[0;36m1\u001b[0m\u001b[0;34m,\u001b[0m \u001b[0minp\u001b[0m\u001b[0;34m.\u001b[0m\u001b[0msize\u001b[0m\u001b[0;34m(\u001b[0m\u001b[0;34m-\u001b[0m\u001b[0;36m1\u001b[0m\u001b[0;34m)\u001b[0m\u001b[0;34m)\u001b[0m\u001b[0;34m,\u001b[0m \u001b[0mtarg\u001b[0m\u001b[0;34m.\u001b[0m\u001b[0mview\u001b[0m\u001b[0;34m(\u001b[0m\u001b[0;34m-\u001b[0m\u001b[0;36m1\u001b[0m\u001b[0;34m)\u001b[0m\u001b[0;34m)\u001b[0m\u001b[0;34m\u001b[0m\u001b[0;34m\u001b[0m\u001b[0m\n\u001b[0m",
            "\u001b[0;32m/usr/local/lib/python3.10/dist-packages/torch/nn/functional.py\u001b[0m in \u001b[0;36mcross_entropy\u001b[0;34m(input, target, weight, size_average, ignore_index, reduce, reduction, label_smoothing)\u001b[0m\n\u001b[1;32m   3057\u001b[0m     \u001b[0;32mif\u001b[0m \u001b[0msize_average\u001b[0m \u001b[0;32mis\u001b[0m \u001b[0;32mnot\u001b[0m \u001b[0;32mNone\u001b[0m \u001b[0;32mor\u001b[0m \u001b[0mreduce\u001b[0m \u001b[0;32mis\u001b[0m \u001b[0;32mnot\u001b[0m \u001b[0;32mNone\u001b[0m\u001b[0;34m:\u001b[0m\u001b[0;34m\u001b[0m\u001b[0;34m\u001b[0m\u001b[0m\n\u001b[1;32m   3058\u001b[0m         \u001b[0mreduction\u001b[0m \u001b[0;34m=\u001b[0m \u001b[0m_Reduction\u001b[0m\u001b[0;34m.\u001b[0m\u001b[0mlegacy_get_string\u001b[0m\u001b[0;34m(\u001b[0m\u001b[0msize_average\u001b[0m\u001b[0;34m,\u001b[0m \u001b[0mreduce\u001b[0m\u001b[0;34m)\u001b[0m\u001b[0;34m\u001b[0m\u001b[0;34m\u001b[0m\u001b[0m\n\u001b[0;32m-> 3059\u001b[0;31m     \u001b[0;32mreturn\u001b[0m \u001b[0mtorch\u001b[0m\u001b[0;34m.\u001b[0m\u001b[0m_C\u001b[0m\u001b[0;34m.\u001b[0m\u001b[0m_nn\u001b[0m\u001b[0;34m.\u001b[0m\u001b[0mcross_entropy_loss\u001b[0m\u001b[0;34m(\u001b[0m\u001b[0minput\u001b[0m\u001b[0;34m,\u001b[0m \u001b[0mtarget\u001b[0m\u001b[0;34m,\u001b[0m \u001b[0mweight\u001b[0m\u001b[0;34m,\u001b[0m \u001b[0m_Reduction\u001b[0m\u001b[0;34m.\u001b[0m\u001b[0mget_enum\u001b[0m\u001b[0;34m(\u001b[0m\u001b[0mreduction\u001b[0m\u001b[0;34m)\u001b[0m\u001b[0;34m,\u001b[0m \u001b[0mignore_index\u001b[0m\u001b[0;34m,\u001b[0m \u001b[0mlabel_smoothing\u001b[0m\u001b[0;34m)\u001b[0m\u001b[0;34m\u001b[0m\u001b[0;34m\u001b[0m\u001b[0m\n\u001b[0m\u001b[1;32m   3060\u001b[0m \u001b[0;34m\u001b[0m\u001b[0m\n\u001b[1;32m   3061\u001b[0m \u001b[0;34m\u001b[0m\u001b[0m\n",
            "\u001b[0;31mValueError\u001b[0m: Expected input batch_size (192) to match target batch_size (64)."
          ]
        }
      ]
    },
    {
      "cell_type": "markdown",
      "source": [
        "###Nuevo Modelo 5"
      ],
      "metadata": {
        "id": "WW8H5rdIHJhj"
      }
    },
    {
      "cell_type": "markdown",
      "source": [
        "###Nuevo Modelo 6"
      ],
      "metadata": {
        "id": "wf4rU_8QHJYm"
      }
    },
    {
      "cell_type": "markdown",
      "source": [
        "###Nuevo Modelo 7"
      ],
      "metadata": {
        "id": "q2OmGdZRHI8m"
      }
    },
    {
      "cell_type": "code",
      "metadata": {
        "id": "7zffxJ2hMqvS"
      },
      "source": [],
      "execution_count": 34,
      "outputs": []
    },
    {
      "cell_type": "markdown",
      "metadata": {
        "id": "6GOoxxxcMqvS"
      },
      "source": [
        "Al finalizar recuerda guarda el notebook en tu repositorio de GitHub con la opción *Save in GitHub* del menú *File*."
      ]
    }
  ]
}